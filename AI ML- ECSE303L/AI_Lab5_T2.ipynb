{
  "nbformat": 4,
  "nbformat_minor": 0,
  "metadata": {
    "kernelspec": {
      "display_name": "Python 3",
      "language": "python",
      "name": "python3"
    },
    "language_info": {
      "codemirror_mode": {
        "name": "ipython",
        "version": 3
      },
      "file_extension": ".py",
      "mimetype": "text/x-python",
      "name": "python",
      "nbconvert_exporter": "python",
      "pygments_lexer": "ipython3",
      "version": "3.8.3"
    },
    "toc": {
      "base_numbering": 1,
      "nav_menu": {},
      "number_sections": true,
      "sideBar": true,
      "skip_h1_title": false,
      "title_cell": "Table of Contents",
      "title_sidebar": "Contents",
      "toc_cell": false,
      "toc_position": {},
      "toc_section_display": true,
      "toc_window_display": false
    },
    "colab": {
      "name": "AI_Lab5_T2",
      "provenance": [],
      "include_colab_link": true
    }
  },
  "cells": [
    {
      "cell_type": "markdown",
      "metadata": {
        "id": "view-in-github",
        "colab_type": "text"
      },
      "source": [
        "<a href=\"https://colab.research.google.com/github/tushar2k/Sem-V-labs/blob/master/AI%20ML-%20ECSE303L/AI_Lab5_T2.ipynb\" target=\"_parent\"><img src=\"https://colab.research.google.com/assets/colab-badge.svg\" alt=\"Open In Colab\"/></a>"
      ]
    },
    {
      "cell_type": "markdown",
      "metadata": {
        "id": "KGCaWjBLs2_Z",
        "colab_type": "text"
      },
      "source": [
        "## Predicting Customer response to Personal Loan Ad-Campaign"
      ]
    },
    {
      "cell_type": "markdown",
      "metadata": {
        "id": "Y4ByKCpHs2_d",
        "colab_type": "text"
      },
      "source": [
        "#### Dataset\n",
        "The dataset is available at <strong>\"data/personal_loan.csv\"</strong> in the respective challenge's repo.<br>\n",
        "Original Dataset : https://www.kaggle.com/itsmesunil/bank-loan-modelling\n",
        "\n",
        "#### Features (X)\n",
        "1. Age - Customer's age in completed years. (Numeric)\n",
        "2. Experience - No. of years of professional experience (Numeric)\n",
        "3. Income - Annual income of the customer. (Numeric)\n",
        "4. ZIPCode - Home Address ZIP code. (Numeric)\n",
        "5. Family - Family size of the customer. (Numeric)\n",
        "6. CCAvg Avg. - Spending on credit cards per month (Numeric)\n",
        "7. Education  - \n",
        "    - Education Level (Categorical|Multiclass):\n",
        "        - 1: Undergrad\n",
        "        - 2: Graduate\n",
        "        - 3: Advanced/Professional \n",
        "8. Mortgage - Value of house mortgage if any. (Numeric)\n",
        "9. Securities Account - Does the customer have a securities account with the bank? (Categorical | Binary)\n",
        "10. CD Account - Does the customer have a certificate of deposit (CD) account with the bank? (Categorical | Binary)\n",
        "11. Online - Does the customer use internet banking facilities? (Categorical | Binary)\n",
        "12. CreditCard - Does the customer uses a credit card issued by UniversalBank? (Categorical | Binary)\n",
        "\n",
        "#### Target (y)\n",
        "- Personal Loan : Did this customer accept the personal loan offered in the last campaign? (Binary)\n",
        "\n",
        "#### Objective\n",
        "- To apply Logistic Regression and Decision Tree Algorithms on the given imbalanced dataset. and compare the algorithms used on our dataset on the basis of appropriately used evaluated metrics while presenting a summarized analysis of what you find.\n",
        "\n",
        "#### Tasks\n",
        "- Download and load the data (csv file).\n",
        "- Process the data according to guidelines given in the comments of the respective cells.\n",
        "- Split the dataset into 80% for training and rest 20% for testing. (sklearn.model_selection.train_test_split function).\n",
        "- Initialize Logistic Regression and Decision Tree Models (With parameters given in the cell).\n",
        "- Train the models on the same dataset.\n",
        "- Compute the confusion matrix for both models and compare.\n",
        "- Compute a classification report (Precision, Recall and F-1 score) for both models and compare. \n",
        "- Compute and plot the ROC Curve of both curves and simultaneously compute the ROC-AUC for both models and thereby compare.\n",
        "- Summarize your findings and give reasoning for your results (comparing task_1 and task_2).\n",
        "\n",
        "#### Further Fun (will not be evaluated)\n",
        "- Train model on different train-test splits such as 60-40, 50-50, 70-30, 80-20, 90-10, 95-5 etc. and observe accuracies on both X_train and X_test.\n",
        "- Shuffle training samples with different random seed values in the train_test_split function. Check the model error for the testing data for each setup.\n",
        "- Explore ways to deal with imbalanced dataset. Use different methods (such as eliminating outliers and such) to experiment with the given dataset.\n",
        "\n",
        "#### Helpful links\n",
        "- pd.get_dummies() and One Hot Encoding: https://queirozf.com/entries/one-hot-encoding-a-feature-on-a-pandas-dataframe-an-example\n",
        "- Differences between Logistic Regression and a Decision Tree: https://www.geeksforgeeks.org/ml-logistic-regression-v-s-decision-tree-classification/\n",
        "- When are Decision Trees better than Logistic Regression?: https://www.displayr.com/decision-trees-are-usually-better-than-logistic-regression\n",
        "- How to choose between Logistic Regression and Decision Trees given a dataset: https://datascience.stackexchange.com/questions/6048/should-i-use-a-decision-tree-or-logistic-regression-for-classification\n",
        "- Decision Tree Classifier by Sklearn: https://scikit-learn.org/stable/modules/generated/sklearn.tree.DecisionTreeClassifier.html\n",
        "- Understanding classification metrics like Precision, Recall, F-Scores and Confusion matrices: https://nillsf.com/index.php/2020/05/23/confusion-matrix-accuracy-recall-precision-false-positive-rate-and-f-scores-explained/\n",
        "- Understanding the ROC Curve: https://developers.google.com/machine-learning/crash-course/classification/roc-and-auc\n",
        "- Use slack for doubts: https://join.slack.com/t/deepconnectai/shared_invite/zt-givlfnf6-~cn3SQ43k0BGDrG9_YOn4g\n"
      ]
    },
    {
      "cell_type": "code",
      "metadata": {
        "id": "sI6T2L3es2_g",
        "colab_type": "code",
        "colab": {}
      },
      "source": [
        "# Importing necessary libraries\n",
        "import pandas as pd\n",
        "import numpy as np\n",
        "import matplotlib.pyplot as plt\n",
        "from sklearn.preprocessing import LabelEncoder\n",
        "from sklearn.preprocessing import MinMaxScaler, StandardScaler\n",
        "from sklearn.model_selection import train_test_split\n",
        "from sklearn.linear_model import LogisticRegression\n",
        "from sklearn.tree import DecisionTreeClassifier\n",
        "from sklearn.metrics import f1_score, precision_score, recall_score\n",
        "from sklearn.metrics import accuracy_score, confusion_matrix, classification_report\n",
        "from sklearn.metrics import roc_curve, roc_auc_score"
      ],
      "execution_count": 1,
      "outputs": []
    },
    {
      "cell_type": "code",
      "metadata": {
        "id": "Mq9LRD0ds2_n",
        "colab_type": "code",
        "colab": {}
      },
      "source": [
        "# Download the dataset from the source\n",
        "# !wget _URL_"
      ],
      "execution_count": null,
      "outputs": []
    },
    {
      "cell_type": "code",
      "metadata": {
        "id": "UtzmYid4s2_y",
        "colab_type": "code",
        "colab": {}
      },
      "source": [
        "# Read the data from local cloud directory\n",
        "data = pd.read_csv('https://raw.githubusercontent.com/DeepConnectAI/challenge-week-5/master/data/personal_loan.csv')"
      ],
      "execution_count": 2,
      "outputs": []
    },
    {
      "cell_type": "code",
      "metadata": {
        "id": "Vl_E9CdCs2_4",
        "colab_type": "code",
        "colab": {
          "base_uri": "https://localhost:8080/",
          "height": 355
        },
        "outputId": "9a89a012-d6d2-4117-a8e1-d0ebd60938af"
      },
      "source": [
        "# Print the dataframe rows just to see some samples\n",
        "data.head(10)"
      ],
      "execution_count": 3,
      "outputs": [
        {
          "output_type": "execute_result",
          "data": {
            "text/html": [
              "<div>\n",
              "<style scoped>\n",
              "    .dataframe tbody tr th:only-of-type {\n",
              "        vertical-align: middle;\n",
              "    }\n",
              "\n",
              "    .dataframe tbody tr th {\n",
              "        vertical-align: top;\n",
              "    }\n",
              "\n",
              "    .dataframe thead th {\n",
              "        text-align: right;\n",
              "    }\n",
              "</style>\n",
              "<table border=\"1\" class=\"dataframe\">\n",
              "  <thead>\n",
              "    <tr style=\"text-align: right;\">\n",
              "      <th></th>\n",
              "      <th>Age</th>\n",
              "      <th>Experience</th>\n",
              "      <th>Income</th>\n",
              "      <th>ZIP Code</th>\n",
              "      <th>Family</th>\n",
              "      <th>CCAvg</th>\n",
              "      <th>Education</th>\n",
              "      <th>Mortgage</th>\n",
              "      <th>CreditCard</th>\n",
              "      <th>Securities Account</th>\n",
              "      <th>CD Account</th>\n",
              "      <th>Online</th>\n",
              "      <th>Personal Loan</th>\n",
              "    </tr>\n",
              "  </thead>\n",
              "  <tbody>\n",
              "    <tr>\n",
              "      <th>0</th>\n",
              "      <td>25</td>\n",
              "      <td>1</td>\n",
              "      <td>49</td>\n",
              "      <td>91107</td>\n",
              "      <td>4</td>\n",
              "      <td>1.6</td>\n",
              "      <td>1</td>\n",
              "      <td>0</td>\n",
              "      <td>0</td>\n",
              "      <td>1</td>\n",
              "      <td>0</td>\n",
              "      <td>0</td>\n",
              "      <td>0</td>\n",
              "    </tr>\n",
              "    <tr>\n",
              "      <th>1</th>\n",
              "      <td>45</td>\n",
              "      <td>19</td>\n",
              "      <td>34</td>\n",
              "      <td>90089</td>\n",
              "      <td>3</td>\n",
              "      <td>1.5</td>\n",
              "      <td>1</td>\n",
              "      <td>0</td>\n",
              "      <td>0</td>\n",
              "      <td>1</td>\n",
              "      <td>0</td>\n",
              "      <td>0</td>\n",
              "      <td>0</td>\n",
              "    </tr>\n",
              "    <tr>\n",
              "      <th>2</th>\n",
              "      <td>39</td>\n",
              "      <td>15</td>\n",
              "      <td>11</td>\n",
              "      <td>94720</td>\n",
              "      <td>1</td>\n",
              "      <td>1.0</td>\n",
              "      <td>1</td>\n",
              "      <td>0</td>\n",
              "      <td>0</td>\n",
              "      <td>0</td>\n",
              "      <td>0</td>\n",
              "      <td>0</td>\n",
              "      <td>0</td>\n",
              "    </tr>\n",
              "    <tr>\n",
              "      <th>3</th>\n",
              "      <td>35</td>\n",
              "      <td>9</td>\n",
              "      <td>100</td>\n",
              "      <td>94112</td>\n",
              "      <td>1</td>\n",
              "      <td>2.7</td>\n",
              "      <td>2</td>\n",
              "      <td>0</td>\n",
              "      <td>0</td>\n",
              "      <td>0</td>\n",
              "      <td>0</td>\n",
              "      <td>0</td>\n",
              "      <td>0</td>\n",
              "    </tr>\n",
              "    <tr>\n",
              "      <th>4</th>\n",
              "      <td>35</td>\n",
              "      <td>8</td>\n",
              "      <td>45</td>\n",
              "      <td>91330</td>\n",
              "      <td>4</td>\n",
              "      <td>1.0</td>\n",
              "      <td>2</td>\n",
              "      <td>0</td>\n",
              "      <td>1</td>\n",
              "      <td>0</td>\n",
              "      <td>0</td>\n",
              "      <td>0</td>\n",
              "      <td>0</td>\n",
              "    </tr>\n",
              "    <tr>\n",
              "      <th>5</th>\n",
              "      <td>37</td>\n",
              "      <td>13</td>\n",
              "      <td>29</td>\n",
              "      <td>92121</td>\n",
              "      <td>4</td>\n",
              "      <td>0.4</td>\n",
              "      <td>2</td>\n",
              "      <td>155</td>\n",
              "      <td>0</td>\n",
              "      <td>0</td>\n",
              "      <td>0</td>\n",
              "      <td>1</td>\n",
              "      <td>0</td>\n",
              "    </tr>\n",
              "    <tr>\n",
              "      <th>6</th>\n",
              "      <td>53</td>\n",
              "      <td>27</td>\n",
              "      <td>72</td>\n",
              "      <td>91711</td>\n",
              "      <td>2</td>\n",
              "      <td>1.5</td>\n",
              "      <td>2</td>\n",
              "      <td>0</td>\n",
              "      <td>0</td>\n",
              "      <td>0</td>\n",
              "      <td>0</td>\n",
              "      <td>1</td>\n",
              "      <td>0</td>\n",
              "    </tr>\n",
              "    <tr>\n",
              "      <th>7</th>\n",
              "      <td>50</td>\n",
              "      <td>24</td>\n",
              "      <td>22</td>\n",
              "      <td>93943</td>\n",
              "      <td>1</td>\n",
              "      <td>0.3</td>\n",
              "      <td>3</td>\n",
              "      <td>0</td>\n",
              "      <td>1</td>\n",
              "      <td>0</td>\n",
              "      <td>0</td>\n",
              "      <td>0</td>\n",
              "      <td>0</td>\n",
              "    </tr>\n",
              "    <tr>\n",
              "      <th>8</th>\n",
              "      <td>35</td>\n",
              "      <td>10</td>\n",
              "      <td>81</td>\n",
              "      <td>90089</td>\n",
              "      <td>3</td>\n",
              "      <td>0.6</td>\n",
              "      <td>2</td>\n",
              "      <td>104</td>\n",
              "      <td>0</td>\n",
              "      <td>0</td>\n",
              "      <td>0</td>\n",
              "      <td>1</td>\n",
              "      <td>0</td>\n",
              "    </tr>\n",
              "    <tr>\n",
              "      <th>9</th>\n",
              "      <td>34</td>\n",
              "      <td>9</td>\n",
              "      <td>180</td>\n",
              "      <td>93023</td>\n",
              "      <td>1</td>\n",
              "      <td>8.9</td>\n",
              "      <td>3</td>\n",
              "      <td>0</td>\n",
              "      <td>0</td>\n",
              "      <td>0</td>\n",
              "      <td>0</td>\n",
              "      <td>0</td>\n",
              "      <td>1</td>\n",
              "    </tr>\n",
              "  </tbody>\n",
              "</table>\n",
              "</div>"
            ],
            "text/plain": [
              "   Age  Experience  Income  ...  CD Account  Online  Personal Loan\n",
              "0   25           1      49  ...           0       0              0\n",
              "1   45          19      34  ...           0       0              0\n",
              "2   39          15      11  ...           0       0              0\n",
              "3   35           9     100  ...           0       0              0\n",
              "4   35           8      45  ...           0       0              0\n",
              "5   37          13      29  ...           0       1              0\n",
              "6   53          27      72  ...           0       1              0\n",
              "7   50          24      22  ...           0       0              0\n",
              "8   35          10      81  ...           0       1              0\n",
              "9   34           9     180  ...           0       0              1\n",
              "\n",
              "[10 rows x 13 columns]"
            ]
          },
          "metadata": {
            "tags": []
          },
          "execution_count": 3
        }
      ]
    },
    {
      "cell_type": "code",
      "metadata": {
        "id": "OSso_CEas2__",
        "colab_type": "code",
        "colab": {
          "base_uri": "https://localhost:8080/",
          "height": 35
        },
        "outputId": "58904000-7438-4196-b578-3475e1041994"
      },
      "source": [
        "# Print shape of the dataframe\n",
        "data.shape"
      ],
      "execution_count": 4,
      "outputs": [
        {
          "output_type": "execute_result",
          "data": {
            "text/plain": [
              "(5000, 13)"
            ]
          },
          "metadata": {
            "tags": []
          },
          "execution_count": 4
        }
      ]
    },
    {
      "cell_type": "code",
      "metadata": {
        "id": "15bFyscqs3AF",
        "colab_type": "code",
        "colab": {
          "base_uri": "https://localhost:8080/",
          "height": 69
        },
        "outputId": "51595fce-0f87-4700-e112-d40a6383afd3"
      },
      "source": [
        "# Take a look at the distribution of target variable (Below is an example of what we mean)\n",
        "print(data['Personal Loan'].value_counts())"
      ],
      "execution_count": 5,
      "outputs": [
        {
          "output_type": "stream",
          "text": [
            "0    4520\n",
            "1     480\n",
            "Name: Personal Loan, dtype: int64\n"
          ],
          "name": "stdout"
        }
      ]
    },
    {
      "cell_type": "markdown",
      "metadata": {
        "id": "m6ZgEyies3AK",
        "colab_type": "text"
      },
      "source": [
        "### This is an imbalanced dataset, as shown above"
      ]
    },
    {
      "cell_type": "code",
      "metadata": {
        "id": "IJpHNyt4s3AL",
        "colab_type": "code",
        "colab": {
          "base_uri": "https://localhost:8080/",
          "height": 381
        },
        "outputId": "350296fe-1919-4967-9af1-32ba92ff3cd4"
      },
      "source": [
        "# Print info about dataset\n",
        "print(data.info())"
      ],
      "execution_count": 6,
      "outputs": [
        {
          "output_type": "stream",
          "text": [
            "<class 'pandas.core.frame.DataFrame'>\n",
            "RangeIndex: 5000 entries, 0 to 4999\n",
            "Data columns (total 13 columns):\n",
            " #   Column              Non-Null Count  Dtype  \n",
            "---  ------              --------------  -----  \n",
            " 0   Age                 5000 non-null   int64  \n",
            " 1   Experience          5000 non-null   int64  \n",
            " 2   Income              5000 non-null   int64  \n",
            " 3   ZIP Code            5000 non-null   int64  \n",
            " 4   Family              5000 non-null   int64  \n",
            " 5   CCAvg               5000 non-null   float64\n",
            " 6   Education           5000 non-null   int64  \n",
            " 7   Mortgage            5000 non-null   int64  \n",
            " 8   CreditCard          5000 non-null   int64  \n",
            " 9   Securities Account  5000 non-null   int64  \n",
            " 10  CD Account          5000 non-null   int64  \n",
            " 11  Online              5000 non-null   int64  \n",
            " 12  Personal Loan       5000 non-null   int64  \n",
            "dtypes: float64(1), int64(12)\n",
            "memory usage: 507.9 KB\n",
            "None\n"
          ],
          "name": "stdout"
        }
      ]
    },
    {
      "cell_type": "code",
      "metadata": {
        "id": "hsisJmnAs3AU",
        "colab_type": "code",
        "colab": {}
      },
      "source": [
        "# Fill Missing Values (if any)\n"
      ],
      "execution_count": null,
      "outputs": []
    },
    {
      "cell_type": "code",
      "metadata": {
        "id": "PQb4vhz0s3AY",
        "colab_type": "code",
        "colab": {}
      },
      "source": [
        "# Label Encode Categorical Columns (if required)\n"
      ],
      "execution_count": null,
      "outputs": []
    },
    {
      "cell_type": "code",
      "metadata": {
        "id": "pKjfd0VRs3Ae",
        "colab_type": "code",
        "colab": {}
      },
      "source": [
        "# Normalize/Standardize numerical columns\n"
      ],
      "execution_count": null,
      "outputs": []
    },
    {
      "cell_type": "code",
      "metadata": {
        "id": "EAm9vBIms3Ak",
        "colab_type": "code",
        "colab": {}
      },
      "source": [
        "# One hot encode columns with multiple categories\n",
        "# Use pd.get_dummies(), concatenate that with the original dataset, and drop the column (keeping only the dummy columns)\n",
        "# Use link given in the \"Helpful Links\" section for help\n"
      ],
      "execution_count": null,
      "outputs": []
    },
    {
      "cell_type": "code",
      "metadata": {
        "id": "eiqu-VCTs3Ar",
        "colab_type": "code",
        "colab": {}
      },
      "source": [
        "# Define Feature Columns as X and Target Column as y\n",
        "X =\n",
        "y ="
      ],
      "execution_count": null,
      "outputs": []
    },
    {
      "cell_type": "code",
      "metadata": {
        "id": "VAszFk4gs3Aw",
        "colab_type": "code",
        "colab": {}
      },
      "source": [
        "# Do train-test split\n",
        "X_train, X_test, y_train, y_test = train_test_split(?, ?, test_size=0.20, random_state=42)"
      ],
      "execution_count": null,
      "outputs": []
    },
    {
      "cell_type": "markdown",
      "metadata": {
        "id": "LtkGLMXEs3A1",
        "colab_type": "text"
      },
      "source": [
        "### Logistic Regression Model"
      ]
    },
    {
      "cell_type": "code",
      "metadata": {
        "id": "6djooENDs3A2",
        "colab_type": "code",
        "colab": {}
      },
      "source": [
        "# Initializing the model\n",
        "log_reg = LogisticRegression()"
      ],
      "execution_count": null,
      "outputs": []
    },
    {
      "cell_type": "code",
      "metadata": {
        "id": "wybxxZ2qs3A7",
        "colab_type": "code",
        "colab": {}
      },
      "source": [
        "# Train the model\n",
        "log_reg.fit(?,?)"
      ],
      "execution_count": null,
      "outputs": []
    },
    {
      "cell_type": "code",
      "metadata": {
        "id": "EsfzL7Gns3A_",
        "colab_type": "code",
        "colab": {}
      },
      "source": [
        "# Make Predictions on the test data (log_prob values represents raw probabilities of predictions)\n",
        "# It will be used for ROC Curves\n",
        "log_pred = log_reg.predict(?)\n",
        "log_prob = log_reg.predict_proba(?)"
      ],
      "execution_count": null,
      "outputs": []
    },
    {
      "cell_type": "markdown",
      "metadata": {
        "id": "r6XPDXbbs3BF",
        "colab_type": "text"
      },
      "source": [
        "### Decision Tree Model"
      ]
    },
    {
      "cell_type": "code",
      "metadata": {
        "id": "eA80AL9bs3BF",
        "colab_type": "code",
        "colab": {}
      },
      "source": [
        "# Initializing the model\n",
        "d_tree = DecisionTreeClassifier()"
      ],
      "execution_count": null,
      "outputs": []
    },
    {
      "cell_type": "code",
      "metadata": {
        "id": "ZSZlCbqrs3BL",
        "colab_type": "code",
        "colab": {}
      },
      "source": [
        "# Train the model\n",
        "d_tree.fit(?,?)"
      ],
      "execution_count": null,
      "outputs": []
    },
    {
      "cell_type": "code",
      "metadata": {
        "id": "6SA6g8LIs3BP",
        "colab_type": "code",
        "colab": {}
      },
      "source": [
        "# Make Predictions on the test data (dt_prob values represents raw probabilities of predictions)\n",
        "# It will be used for ROC Curves\n",
        "dt_pred = d_tree.predict(?)\n",
        "dt_prob = d_tree.predict_proba(?)"
      ],
      "execution_count": null,
      "outputs": []
    },
    {
      "cell_type": "markdown",
      "metadata": {
        "id": "9jO_uJvAs3BU",
        "colab_type": "text"
      },
      "source": [
        "## Evaluating Our Models"
      ]
    },
    {
      "cell_type": "code",
      "metadata": {
        "id": "SRrzD25Ts3BV",
        "colab_type": "code",
        "colab": {}
      },
      "source": [
        "# Confusion matrix for Logistic Regression Model\n",
        "print(confusion_matrix(?,?))"
      ],
      "execution_count": null,
      "outputs": []
    },
    {
      "cell_type": "code",
      "metadata": {
        "id": "oeQEsf1Ps3BZ",
        "colab_type": "code",
        "colab": {}
      },
      "source": [
        "# Confusion matrix for Decision Tree Model\n",
        "print(confusion_matrix(?,?))"
      ],
      "execution_count": null,
      "outputs": []
    },
    {
      "cell_type": "markdown",
      "metadata": {
        "id": "MtlCVl9Bs3Bf",
        "colab_type": "text"
      },
      "source": [
        "### <b>Think</b> : Would accuracy_score be a good evaluation metric, given that the dataset is imbalanced?"
      ]
    },
    {
      "cell_type": "code",
      "metadata": {
        "id": "HN4aBw1ys3Bg",
        "colab_type": "code",
        "colab": {}
      },
      "source": [
        "# Since the dataset is imbalanced, we evaluate our model using F1-Score"
      ],
      "execution_count": null,
      "outputs": []
    },
    {
      "cell_type": "code",
      "metadata": {
        "id": "TCuaeSi3s3Bk",
        "colab_type": "code",
        "colab": {}
      },
      "source": [
        "# F1-Score for Logistic Regression Model\n",
        "print(f1_score(?,?))"
      ],
      "execution_count": null,
      "outputs": []
    },
    {
      "cell_type": "code",
      "metadata": {
        "id": "DKUBr1Ljs3Bp",
        "colab_type": "code",
        "colab": {}
      },
      "source": [
        "# F1-Score for Decision Tree Model\n",
        "print(f1_score(?,?))"
      ],
      "execution_count": null,
      "outputs": []
    },
    {
      "cell_type": "code",
      "metadata": {
        "id": "GF9Tw3uQs3Bx",
        "colab_type": "code",
        "colab": {}
      },
      "source": [
        "# Classification report for Logistic Regression Model\n",
        "print(classification_report(?,?))"
      ],
      "execution_count": null,
      "outputs": []
    },
    {
      "cell_type": "code",
      "metadata": {
        "id": "JLf8rhphs3B4",
        "colab_type": "code",
        "colab": {}
      },
      "source": [
        "# Classification report for Decision Tree Model\n",
        "print(classification_report(?,?))"
      ],
      "execution_count": null,
      "outputs": []
    },
    {
      "cell_type": "markdown",
      "metadata": {
        "id": "YjzsLZ6Es3B8",
        "colab_type": "text"
      },
      "source": [
        "### Plotting the ROC Curve and computing the ROC-AUC"
      ]
    },
    {
      "cell_type": "code",
      "metadata": {
        "id": "yPXXaM3gs3B9",
        "colab_type": "code",
        "colab": {}
      },
      "source": [
        "#ROC-AUC curve is a performance measurement for classification problems at various thresholds settings."
      ],
      "execution_count": null,
      "outputs": []
    },
    {
      "cell_type": "code",
      "metadata": {
        "id": "e1Jwv1qTs3CA",
        "colab_type": "code",
        "colab": {}
      },
      "source": [
        "#Calculate False Positive Rate and True Positive Rate for y_test\n",
        "fpr1, tpr1, thresh1 = roc_curve(?, ?, pos_label=1)\n",
        "fpr2, tpr2, thresh2 = roc_curve(?, ?, pos_label=1)\n",
        "\n",
        "random_probs = [0 for i in range(len(y_test))]\n",
        "p_fpr, p_tpr, _ = roc_curve(y_test, random_probs, pos_label=1)"
      ],
      "execution_count": null,
      "outputs": []
    },
    {
      "cell_type": "code",
      "metadata": {
        "id": "q-RX4k6zs3CH",
        "colab_type": "code",
        "colab": {}
      },
      "source": [
        "#Plot ROC Curve (TPR vs FPR)\n",
        "plt.style.use('seaborn')\n",
        "plt.plot(fpr1, tpr1, linestyle='--',color='orange', label='Logistic Regression')\n",
        "plt.plot(fpr2, tpr2, linestyle='-',color='green', label='Decision Tree')\n",
        "plt.plot(p_fpr, p_tpr, linestyle='-.', color='blue')\n",
        "plt.title('ROC curve')\n",
        "plt.xlabel('False Positive Rate')\n",
        "plt.ylabel('True Positive rate')\n",
        "plt.legend(loc='best')\n",
        "plt.show();"
      ],
      "execution_count": null,
      "outputs": []
    },
    {
      "cell_type": "code",
      "metadata": {
        "id": "yfrLWTxms3CM",
        "colab_type": "code",
        "colab": {}
      },
      "source": [
        "#Print ROC-AUC scores for both models\n",
        "auc_score1 = roc_auc_score(?, ?)\n",
        "auc_score2 = roc_auc_score(?, ?)\n",
        "\n",
        "print(\"ROC-AUC Score for Logistic Regression: \",auc_score1)\n",
        "print(\"ROC-AUC Score for Decision Tree: \",auc_score2)"
      ],
      "execution_count": null,
      "outputs": []
    },
    {
      "cell_type": "markdown",
      "metadata": {
        "id": "NwL661qjs3CR",
        "colab_type": "text"
      },
      "source": [
        "## Conclusive Analysis"
      ]
    },
    {
      "cell_type": "markdown",
      "metadata": {
        "id": "EgYoN_AJs3CR",
        "colab_type": "text"
      },
      "source": [
        "Summarize your findings and give reasoning for the results you obtained from task_1 and task_2 and compare the algorithms utilized based on the evaluations metrics used."
      ]
    },
    {
      "cell_type": "code",
      "metadata": {
        "id": "j_ZUFTL0s3CS",
        "colab_type": "code",
        "colab": {}
      },
      "source": [
        "print(?)"
      ],
      "execution_count": null,
      "outputs": []
    }
  ]
}