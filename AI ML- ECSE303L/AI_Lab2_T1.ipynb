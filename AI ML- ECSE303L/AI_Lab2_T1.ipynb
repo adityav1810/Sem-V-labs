{
  "nbformat": 4,
  "nbformat_minor": 0,
  "metadata": {
    "kernelspec": {
      "display_name": "Python 3",
      "language": "python",
      "name": "python3"
    },
    "language_info": {
      "codemirror_mode": {
        "name": "ipython",
        "version": 3
      },
      "file_extension": ".py",
      "mimetype": "text/x-python",
      "name": "python",
      "nbconvert_exporter": "python",
      "pygments_lexer": "ipython3",
      "version": "3.7.3"
    },
    "toc": {
      "base_numbering": 1,
      "nav_menu": {},
      "number_sections": true,
      "sideBar": true,
      "skip_h1_title": false,
      "title_cell": "Table of Contents",
      "title_sidebar": "Contents",
      "toc_cell": false,
      "toc_position": {},
      "toc_section_display": true,
      "toc_window_display": false
    },
    "colab": {
      "name": "AI_Lab2_T1.ipynb",
      "provenance": [],
      "collapsed_sections": [],
      "include_colab_link": true
    }
  },
  "cells": [
    {
      "cell_type": "markdown",
      "metadata": {
        "id": "view-in-github",
        "colab_type": "text"
      },
      "source": [
        "<a href=\"https://colab.research.google.com/github/tushar2k/Sem-V-labs/blob/master/AI%20ML-%20ECSE303L/AI_Lab2_T1.ipynb\" target=\"_parent\"><img src=\"https://colab.research.google.com/assets/colab-badge.svg\" alt=\"Open In Colab\"/></a>"
      ]
    },
    {
      "cell_type": "markdown",
      "metadata": {
        "id": "_YbVreIxBxh2",
        "colab_type": "text"
      },
      "source": [
        "### Simple Linear Regression\n",
        "Linear regression is among the simplest regression methods. One of the main advantages of using it is ease of interpreting results. Simple linear regression is special case of regression where target feature is dependent on single variable, and then we find the best fitting line.<br>\n",
        "\n",
        "##### y = m*x + c <br>\n",
        "\n",
        "#### Dataset\n",
        "The dataset is available at __\"data/simple_linear_data.csv\"__ in the respective challenge's repo.<br><br>\n",
        "This is the modified version of the dataset 'Student Performance' provided by UCI Machine Learning repository.<br>\n",
        "Original dataset: https://archive.ics.uci.edu/ml/datasets/student+performance\n",
        "\n",
        "#### Features (X)\n",
        "- G2 - second year math grades (numeric: from 0 to 100)\n",
        "\n",
        "#### Target (y)\n",
        "- G3 - third year math grades (numeric: from 0 to 100, output target)\n",
        "\n",
        "#### Objective\n",
        "To gain understanding of single linear regression through implementing the model from scratch\n",
        "\n",
        "#### Tasks\n",
        "- Read the data from above mentioned dataset and define X and y as numpy array\n",
        "- Add column at position 0 with all values=1 (pandas.DataFrame.insert function)\n",
        "- Print rows from 40 to 55.\n",
        "- Print the shape and datatype of both X and y\n",
        "- Follow code cells to implement simple linear regression from scratch\n",
        "    - Write hypothesis function to predict values\n",
        "    - Write function for calculating mean_squared_error\n",
        "    - Write function to return gradients for given weights\n",
        "    - Perform gradient descent taking help of above functions\n",
        "\n",
        "#### Further Fun (will not be evaluated\n",
        "- Remove outliers, train again and see the difference in error.\n",
        "```python\n",
        "# Add this line before defining X and y\n",
        "data = data[(data['G3']!=0)|((data['G2']==0)&(data['G3']==0))]\n",
        "```\n",
        "- Replace \"*weights = np.random.rand(2)*\" line in gradient descent with below line, train again and visualize results.\n",
        "```python\n",
        "# Replace above line with following in gradient descent function\n",
        "weights = np.zeros(2,)\n",
        "```\n",
        "- Play with learning rate and max_iterations\n",
        "- Generalize the code for multivariate(multiple) linear regression\n",
        "\n",
        "#### Resources\n",
        "- Linear regression maths: https://www.youtube.com/watch?v=ZkjP5RJLQF4\n",
        "- Simple linear regression: https://www.youtube.com/watch?v=iAgYLRy7e20\n",
        "- Tutorial: https://machinelearningmastery.com/implement-simple-linear-regression-scratch-python\n"
      ]
    },
    {
      "cell_type": "code",
      "metadata": {
        "id": "GwUwoMh7Bxh9",
        "colab_type": "code",
        "colab": {}
      },
      "source": [
        "import numpy as np\n",
        "import matplotlib.pyplot as plt\n",
        "import pandas as pd"
      ],
      "execution_count": null,
      "outputs": []
    },
    {
      "cell_type": "code",
      "metadata": {
        "id": "-Dw-3WGkBxiG",
        "colab_type": "code",
        "colab": {}
      },
      "source": [
        "# Read the data from provided dir\n",
        "data = pd.read_csv('https://raw.githubusercontent.com/DeepConnectAI/challenge-week-2/master/data/simple_linear_data.csv')"
      ],
      "execution_count": null,
      "outputs": []
    },
    {
      "cell_type": "code",
      "metadata": {
        "id": "IbKuide7BxiO",
        "colab_type": "code",
        "colab": {}
      },
      "source": [
        "# Add column which has all 1s\n",
        "# The idea is that weight corresponding to this column is equal to intercept\n",
        "# This way it is efficient and easier to handle the bias/intercept term\n",
        "data.insert(0,'one',1)"
      ],
      "execution_count": null,
      "outputs": []
    },
    {
      "cell_type": "code",
      "metadata": {
        "id": "ga3YQ04SBxiU",
        "colab_type": "code",
        "colab": {
          "base_uri": "https://localhost:8080/",
          "height": 415
        },
        "outputId": "1d014924-ef13-4214-ee01-9e48af2b7a8d"
      },
      "source": [
        "# Print the dataframe rows\n",
        "data"
      ],
      "execution_count": null,
      "outputs": [
        {
          "output_type": "execute_result",
          "data": {
            "text/html": [
              "<div>\n",
              "<style scoped>\n",
              "    .dataframe tbody tr th:only-of-type {\n",
              "        vertical-align: middle;\n",
              "    }\n",
              "\n",
              "    .dataframe tbody tr th {\n",
              "        vertical-align: top;\n",
              "    }\n",
              "\n",
              "    .dataframe thead th {\n",
              "        text-align: right;\n",
              "    }\n",
              "</style>\n",
              "<table border=\"1\" class=\"dataframe\">\n",
              "  <thead>\n",
              "    <tr style=\"text-align: right;\">\n",
              "      <th></th>\n",
              "      <th>one</th>\n",
              "      <th>G2</th>\n",
              "      <th>G3</th>\n",
              "    </tr>\n",
              "  </thead>\n",
              "  <tbody>\n",
              "    <tr>\n",
              "      <th>0</th>\n",
              "      <td>1</td>\n",
              "      <td>30</td>\n",
              "      <td>30</td>\n",
              "    </tr>\n",
              "    <tr>\n",
              "      <th>1</th>\n",
              "      <td>1</td>\n",
              "      <td>25</td>\n",
              "      <td>30</td>\n",
              "    </tr>\n",
              "    <tr>\n",
              "      <th>2</th>\n",
              "      <td>1</td>\n",
              "      <td>40</td>\n",
              "      <td>50</td>\n",
              "    </tr>\n",
              "    <tr>\n",
              "      <th>3</th>\n",
              "      <td>1</td>\n",
              "      <td>70</td>\n",
              "      <td>75</td>\n",
              "    </tr>\n",
              "    <tr>\n",
              "      <th>4</th>\n",
              "      <td>1</td>\n",
              "      <td>50</td>\n",
              "      <td>50</td>\n",
              "    </tr>\n",
              "    <tr>\n",
              "      <th>...</th>\n",
              "      <td>...</td>\n",
              "      <td>...</td>\n",
              "      <td>...</td>\n",
              "    </tr>\n",
              "    <tr>\n",
              "      <th>390</th>\n",
              "      <td>1</td>\n",
              "      <td>45</td>\n",
              "      <td>45</td>\n",
              "    </tr>\n",
              "    <tr>\n",
              "      <th>391</th>\n",
              "      <td>1</td>\n",
              "      <td>80</td>\n",
              "      <td>80</td>\n",
              "    </tr>\n",
              "    <tr>\n",
              "      <th>392</th>\n",
              "      <td>1</td>\n",
              "      <td>40</td>\n",
              "      <td>35</td>\n",
              "    </tr>\n",
              "    <tr>\n",
              "      <th>393</th>\n",
              "      <td>1</td>\n",
              "      <td>60</td>\n",
              "      <td>50</td>\n",
              "    </tr>\n",
              "    <tr>\n",
              "      <th>394</th>\n",
              "      <td>1</td>\n",
              "      <td>45</td>\n",
              "      <td>45</td>\n",
              "    </tr>\n",
              "  </tbody>\n",
              "</table>\n",
              "<p>395 rows × 3 columns</p>\n",
              "</div>"
            ],
            "text/plain": [
              "     one  G2  G3\n",
              "0      1  30  30\n",
              "1      1  25  30\n",
              "2      1  40  50\n",
              "3      1  70  75\n",
              "4      1  50  50\n",
              "..   ...  ..  ..\n",
              "390    1  45  45\n",
              "391    1  80  80\n",
              "392    1  40  35\n",
              "393    1  60  50\n",
              "394    1  45  45\n",
              "\n",
              "[395 rows x 3 columns]"
            ]
          },
          "metadata": {
            "tags": []
          },
          "execution_count": 20
        }
      ]
    },
    {
      "cell_type": "code",
      "metadata": {
        "id": "vytNOfKqBxia",
        "colab_type": "code",
        "colab": {}
      },
      "source": [
        "# Define X (input features) and y (output feature) \n",
        "data = data[(data['G3']!=0)|((data['G2']==0)&(data['G3']==0))]\n",
        "X = data[['one','G2']].to_numpy()\n",
        "y = data['G3'].to_numpy()"
      ],
      "execution_count": null,
      "outputs": []
    },
    {
      "cell_type": "code",
      "metadata": {
        "id": "Po1W7fPGBxii",
        "colab_type": "code",
        "colab": {
          "base_uri": "https://localhost:8080/",
          "height": 52
        },
        "outputId": "efbca453-e443-48db-b068-afc81f6a5475"
      },
      "source": [
        "X_shape = X.shape\n",
        "X_type  = type(X)\n",
        "y_shape = y.shape\n",
        "y_type  = type(y)\n",
        "print(f'X: Type-{X_type}, Shape-{X_shape}')\n",
        "print(f'y: Type-{y_type}, Shape-{y_shape}')"
      ],
      "execution_count": null,
      "outputs": [
        {
          "output_type": "stream",
          "text": [
            "X: Type-<class 'numpy.ndarray'>, Shape-(370, 2)\n",
            "y: Type-<class 'numpy.ndarray'>, Shape-(370,)\n"
          ],
          "name": "stdout"
        }
      ]
    },
    {
      "cell_type": "markdown",
      "metadata": {
        "id": "8rHa7O7qBxin",
        "colab_type": "text"
      },
      "source": [
        "__Expected output__:<br><br>\n",
        "X: Type-<class 'numpy.ndarray'>, Shape-(395,2)<br>\n",
        "y: Type-<class 'numpy.ndarray'>, Shape-(395,)"
      ]
    },
    {
      "cell_type": "markdown",
      "metadata": {
        "id": "hzcfFFyaBxio",
        "colab_type": "text"
      },
      "source": [
        "Let us visualize the relationship between X and y"
      ]
    },
    {
      "cell_type": "code",
      "metadata": {
        "id": "6jQlWxiJBxip",
        "colab_type": "code",
        "colab": {
          "base_uri": "https://localhost:8080/",
          "height": 295
        },
        "outputId": "f04a3595-05d0-4241-b8e9-915105110afc"
      },
      "source": [
        "# DO NOT EDIT THIS CODE CELL\n",
        "plt.scatter(X[:,1],y,c='b')\n",
        "plt.title('Relation between second year grades and third year grades')\n",
        "plt.xlabel('G2 (X - Second year grades)')\n",
        "plt.ylabel('G3 (Y - Third year grades)')\n",
        "plt.show()"
      ],
      "execution_count": null,
      "outputs": [
        {
          "output_type": "display_data",
          "data": {
            "image/png": "[encoded data removed]",
            "text/plain": [
              "<Figure size 432x288 with 1 Axes>"
            ]
          },
          "metadata": {
            "tags": [],
            "needs_background": "light"
          }
        }
      ]
    },
    {
      "cell_type": "markdown",
      "metadata": {
        "id": "W398UkSYBxix",
        "colab_type": "text"
      },
      "source": [
        "##### Let us start implementing linear regression from scratch. Just follow code cells, see hints if required."
      ]
    },
    {
      "cell_type": "code",
      "metadata": {
        "id": "bIfOpA4_Bxiy",
        "colab_type": "code",
        "colab": {}
      },
      "source": [
        "def predict(X, weights):\n",
        "    '''\n",
        "    weights   : array (2,1) w0 and w1\n",
        "    X         : array (m,2) x0 (intercept=1) and x1\n",
        "    \n",
        "    Returns predicted y using hyothesis linear function defined by given weights\n",
        "    '''\n",
        "    ### START CODE HERE ###\n",
        "    y_pred = weights[1]*X[:,1]+weights[0]\n",
        "    ### END CODE HERE ###\n",
        "    assert (y_pred.shape==(X.shape[0],)), 'Wrong implementation of predict function. Check carefully'\n",
        "    \n",
        "    return y_pred"
      ],
      "execution_count": null,
      "outputs": []
    },
    {
      "cell_type": "code",
      "metadata": {
        "id": "h53ipThVBxi3",
        "colab_type": "code",
        "colab": {}
      },
      "source": [
        "def mean_squared_error(y_true, y_pred) : \n",
        "    '''\n",
        "    y_true : (m,1)\n",
        "    y_pred : (m,1)\n",
        "    \n",
        "    Return the mean squared error\n",
        "    '''\n",
        "    ### START CODE HERE ###\n",
        "    mean_error=(np.sum((y_true-y_pred)**2))/len(y_true)\n",
        "    return ((mean_error))\n",
        "    ### END CODE HERE ###"
      ],
      "execution_count": null,
      "outputs": []
    },
    {
      "cell_type": "code",
      "metadata": {
        "id": "1maSwAI9Bxi8",
        "colab_type": "code",
        "colab": {}
      },
      "source": [
        "def gradient(X, y_true, y_pred):\n",
        "    '''\n",
        "    X      : array (m,2)\n",
        "    y_true : array (m,1)\n",
        "    y_pred : array (m,1)\n",
        "    \n",
        "    Returns a numpy array with gradients. Shape (2,1)\n",
        "    '''\n",
        "    # Initialize the gradient vector for w0 (intercept/bias) and w1 respectively\n",
        "    grad = np.zeros(2,)\n",
        "    \n",
        "    ### START CODE HERE ###\n",
        "    \n",
        "    grad[0] = (-1/len(y))*(np.sum(y_true-y_pred))\n",
        "    grad[1] = (-1/len(y))*(np.sum(X[:,1]*(y_true-y_pred)))\n",
        "    \n",
        "    ### END CODE HERE ###\n",
        "    \n",
        "    return grad"
      ],
      "execution_count": null,
      "outputs": []
    },
    {
      "cell_type": "code",
      "metadata": {
        "id": "HtSWXv-KBxjC",
        "colab_type": "code",
        "colab": {}
      },
      "source": [
        "def gradient_descent(X, y, learning_rate=0.00005, max_iterations=100):\n",
        "    '''\n",
        "    X              : Array (m,2)\n",
        "    y              : Array (m,1)\n",
        "    learning_rate  : Learning rate\n",
        "    max_iterations : Maximum iteratons\n",
        "    \n",
        "    Returns : weights vector (2,1)\n",
        "            : losses (List)\n",
        "    '''\n",
        "    # Initialise weights vector of random values of size (2,1)\n",
        "    weights = np.zeros(2,)\n",
        "    # Initialize a list to record all the losses \n",
        "    losses  = []\n",
        "    \n",
        "    ### START CODE HERE ###\n",
        "    for _ in range (max_iterations):\n",
        "        y_pred=predict(X,weights)\n",
        "        losses.append(mean_squared_error(y, y_pred))\n",
        "        w=gradient(X, y, y_pred)\n",
        "        weights[0]-=learning_rate*w[0]\n",
        "        weights[1]-=learning_rate*w[1]\n",
        "    ### END CODE HERE ###\n",
        "    \n",
        "    return weights, losses"
      ],
      "execution_count": null,
      "outputs": []
    },
    {
      "cell_type": "markdown",
      "metadata": {
        "id": "5Vt7csyYBxjH",
        "colab_type": "text"
      },
      "source": [
        "##### Congratulations! You have implemented linear regression from scratch. Let's see this in action."
      ]
    },
    {
      "cell_type": "code",
      "metadata": {
        "id": "w7gAiFNiBxjI",
        "colab_type": "code",
        "colab": {}
      },
      "source": [
        "# Perform gradient descent\n",
        "optimal_weights, losses = gradient_descent(X, y)"
      ],
      "execution_count": null,
      "outputs": []
    },
    {
      "cell_type": "code",
      "metadata": {
        "id": "dDA3uRenBxjN",
        "colab_type": "code",
        "colab": {
          "base_uri": "https://localhost:8080/",
          "height": 35
        },
        "outputId": "f4e13356-2c40-469c-d044-29e3a0033507"
      },
      "source": [
        "# DO NOT CHANGE THE FOLLOWING CODE CELLS\n",
        "# Print final loss\n",
        "print(\"Mean squared error:\", losses[-1])"
      ],
      "execution_count": null,
      "outputs": [
        {
          "output_type": "stream",
          "text": [
            "Mean squared error: 17.080759213669424\n"
          ],
          "name": "stdout"
        }
      ]
    },
    {
      "cell_type": "code",
      "metadata": {
        "id": "jNHWUVvnBxjU",
        "colab_type": "code",
        "colab": {
          "base_uri": "https://localhost:8080/",
          "height": 295
        },
        "outputId": "1037ca3b-242e-4a11-a18a-de6a70278eb5"
      },
      "source": [
        "# Plot the loss curve\n",
        "plt.plot([i for i in range(len(losses))], losses)\n",
        "plt.title(\"Loss curve\")\n",
        "plt.xlabel(\"Iteration num\")\n",
        "plt.ylabel(\"Loss\")\n",
        "plt.show()"
      ],
      "execution_count": null,
      "outputs": [
        {
          "output_type": "display_data",
          "data": {
            "image/png": "[encoded data removed]",
            "text/plain": [
              "<Figure size 432x288 with 1 Axes>"
            ]
          },
          "metadata": {
            "tags": [],
            "needs_background": "light"
          }
        }
      ]
    },
    {
      "cell_type": "code",
      "metadata": {
        "id": "AOIEe9xcBxja",
        "colab_type": "code",
        "colab": {}
      },
      "source": [
        "# Make predictions using trained weights\n",
        "y_pred = predict(X, optimal_weights)"
      ],
      "execution_count": null,
      "outputs": []
    },
    {
      "cell_type": "code",
      "metadata": {
        "id": "6D1723-IBxjg",
        "colab_type": "code",
        "colab": {
          "base_uri": "https://localhost:8080/",
          "height": 295
        },
        "outputId": "1fe5f232-1fbd-4f42-de3b-4db2d05104d5"
      },
      "source": [
        "# Visualize the results by plotting it\n",
        "plt.scatter(X[:,1], y, c='r', label='Actual scores')\n",
        "plt.plot(X[:,1], y_pred, c='g', label='Fitted line | predictions')\n",
        "plt.legend()\n",
        "plt.title(\"Linear regression fitted line\")\n",
        "plt.xlabel(\"Second year grades\")\n",
        "plt.ylabel(\"Third year grades\")\n",
        "plt.show()"
      ],
      "execution_count": null,
      "outputs": [
        {
          "output_type": "display_data",
          "data": {
            "image/png": "[encoded data removed]",
            "text/plain": [
              "<Figure size 432x288 with 1 Axes>"
            ]
          },
          "metadata": {
            "tags": [],
            "needs_background": "light"
          }
        }
      ]
    },
    {
      "cell_type": "code",
      "metadata": {
        "id": "2CNVsCiHBxjn",
        "colab_type": "code",
        "colab": {}
      },
      "source": [
        ""
      ],
      "execution_count": null,
      "outputs": []
    }
  ]
}