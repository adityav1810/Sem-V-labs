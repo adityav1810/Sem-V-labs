{
  "nbformat": 4,
  "nbformat_minor": 0,
  "metadata": {
    "colab": {
      "name": "SMA_Lab3.ipynb",
      "provenance": []
    },
    "kernelspec": {
      "name": "python3",
      "display_name": "Python 3"
    }
  },
  "cells": [
    {
      "cell_type": "code",
      "metadata": {
        "id": "YCfB9oJkCKMv",
        "colab_type": "code",
        "colab": {}
      },
      "source": [
        "import numpy as np"
      ],
      "execution_count": 1,
      "outputs": []
    },
    {
      "cell_type": "code",
      "metadata": {
        "id": "ZByCQgwkIhgp",
        "colab_type": "code",
        "colab": {}
      },
      "source": [
        "s=10000\n",
        "matrices=[]\n",
        "for i in range(1,100,2):\n",
        "    matrix=np.zeros((s,s),dtype=\"bool\")\n",
        "    x=i/100\n",
        "    for j in range(s):\n",
        "        for k in range(j,s):\n",
        "            p=np.random.rand()\n",
        "            if x>p:\n",
        "                matrix[j,k]=1\n",
        "                matrix[k,j]=1\n",
        "    matrices.append(matrix)\n"
      ],
      "execution_count": 13,
      "outputs": []
    },
    {
      "cell_type": "code",
      "metadata": {
        "id": "zBAS3he5CdGd",
        "colab_type": "code",
        "colab": {}
      },
      "source": [
        "matrices=np.array(matrices)"
      ],
      "execution_count": 20,
      "outputs": []
    },
    {
      "cell_type": "code",
      "metadata": {
        "id": "q-VswpSMCnkg",
        "colab_type": "code",
        "colab": {
          "base_uri": "https://localhost:8080/",
          "height": 867
        },
        "outputId": "9312f0aa-c100-4673-9c46-bf56dadf9226"
      },
      "source": [
        "matrices"
      ],
      "execution_count": 21,
      "outputs": [
        {
          "output_type": "execute_result",
          "data": {
            "text/plain": [
              "array([[[False, False, False, ..., False, False, False],\n",
              "        [False, False, False, ..., False, False, False],\n",
              "        [False, False, False, ..., False, False, False],\n",
              "        ...,\n",
              "        [False, False, False, ..., False, False, False],\n",
              "        [False, False, False, ..., False, False, False],\n",
              "        [False, False, False, ..., False, False, False]],\n",
              "\n",
              "       [[False, False, False, ..., False, False, False],\n",
              "        [False, False, False, ..., False, False, False],\n",
              "        [False, False, False, ..., False, False, False],\n",
              "        ...,\n",
              "        [False, False, False, ..., False, False, False],\n",
              "        [False, False, False, ..., False, False, False],\n",
              "        [False, False, False, ..., False, False, False]],\n",
              "\n",
              "       [[False, False, False, ..., False, False, False],\n",
              "        [False, False, False, ..., False, False, False],\n",
              "        [False, False, False, ..., False, False, False],\n",
              "        ...,\n",
              "        [False, False, False, ..., False, False, False],\n",
              "        [False, False, False, ..., False, False, False],\n",
              "        [False, False, False, ..., False, False, False]],\n",
              "\n",
              "       ...,\n",
              "\n",
              "       [[ True,  True,  True, ...,  True,  True,  True],\n",
              "        [ True,  True,  True, ...,  True,  True,  True],\n",
              "        [ True,  True,  True, ...,  True,  True,  True],\n",
              "        ...,\n",
              "        [ True,  True,  True, ...,  True,  True, False],\n",
              "        [ True,  True,  True, ...,  True,  True,  True],\n",
              "        [ True,  True,  True, ..., False,  True,  True]],\n",
              "\n",
              "       [[ True,  True,  True, ...,  True,  True,  True],\n",
              "        [ True,  True,  True, ...,  True,  True,  True],\n",
              "        [ True,  True,  True, ...,  True,  True,  True],\n",
              "        ...,\n",
              "        [ True,  True,  True, ...,  True,  True,  True],\n",
              "        [ True,  True,  True, ...,  True,  True,  True],\n",
              "        [ True,  True,  True, ...,  True,  True,  True]],\n",
              "\n",
              "       [[ True,  True,  True, ...,  True,  True,  True],\n",
              "        [ True,  True,  True, ...,  True,  True,  True],\n",
              "        [ True,  True,  True, ...,  True,  True,  True],\n",
              "        ...,\n",
              "        [ True,  True,  True, ...,  True,  True,  True],\n",
              "        [ True,  True,  True, ...,  True,  True,  True],\n",
              "        [ True,  True,  True, ...,  True,  True,  True]]])"
            ]
          },
          "metadata": {
            "tags": []
          },
          "execution_count": 21
        }
      ]
    },
    {
      "cell_type": "code",
      "metadata": {
        "id": "hTu18OEAMf6r",
        "colab_type": "code",
        "colab": {}
      },
      "source": [
        "edges=[]\n",
        "for i in matrices:\n",
        "    edges.append(np.sum(i))"
      ],
      "execution_count": 22,
      "outputs": []
    },
    {
      "cell_type": "code",
      "metadata": {
        "id": "HUktGTHYNZXF",
        "colab_type": "code",
        "colab": {}
      },
      "source": [
        "edges=np.array(edges)"
      ],
      "execution_count": 24,
      "outputs": []
    },
    {
      "cell_type": "code",
      "metadata": {
        "id": "DiMMPdvwNb3u",
        "colab_type": "code",
        "colab": {
          "base_uri": "https://localhost:8080/",
          "height": 173
        },
        "outputId": "03a88647-2f8b-410f-f02b-fff6f4b6f667"
      },
      "source": [
        "edges"
      ],
      "execution_count": 25,
      "outputs": [
        {
          "output_type": "execute_result",
          "data": {
            "text/plain": [
              "array([ 1000459,  3000614,  4996609,  7005094,  9001130, 11001117,\n",
              "       12997841, 15000460, 16991861, 19007024, 20991219, 22995109,\n",
              "       25003817, 26996227, 29004777, 30997451, 32992454, 35002315,\n",
              "       36987587, 38998921, 40992700, 42990112, 45005948, 46995723,\n",
              "       49013889, 50996571, 52991518, 55002599, 56990332, 58992661,\n",
              "       61001446, 63001388, 64998392, 67005875, 68997004, 70987518,\n",
              "       72992811, 75004074, 76998914, 79006134, 81006423, 82994683,\n",
              "       84998130, 86997175, 88999859, 91000173, 93003403, 95004733,\n",
              "       97000404, 98998667])"
            ]
          },
          "metadata": {
            "tags": []
          },
          "execution_count": 25
        }
      ]
    },
    {
      "cell_type": "code",
      "metadata": {
        "id": "Sm26iT2RNmuc",
        "colab_type": "code",
        "colab": {}
      },
      "source": [
        "degrees=[]\n",
        "for i in matrices:\n",
        "    degrees.append(np.sum(i,1))"
      ],
      "execution_count": 26,
      "outputs": []
    },
    {
      "cell_type": "code",
      "metadata": {
        "id": "1UUxhOHdOsCZ",
        "colab_type": "code",
        "colab": {}
      },
      "source": [
        "degrees=np.array(degrees)"
      ],
      "execution_count": 30,
      "outputs": []
    },
    {
      "cell_type": "code",
      "metadata": {
        "id": "3xuaW4eiOvN3",
        "colab_type": "code",
        "colab": {
          "base_uri": "https://localhost:8080/",
          "height": 139
        },
        "outputId": "9b68a489-8a8c-464e-f33f-223b3b5af4b2"
      },
      "source": [
        "degrees"
      ],
      "execution_count": 31,
      "outputs": [
        {
          "output_type": "execute_result",
          "data": {
            "text/plain": [
              "array([[ 111,  100,  119, ...,  118,   90,   96],\n",
              "       [ 308,  306,  287, ...,  300,  296,  285],\n",
              "       [ 514,  512,  562, ...,  502,  488,  489],\n",
              "       ...,\n",
              "       [9502, 9488, 9522, ..., 9509, 9517, 9531],\n",
              "       [9701, 9697, 9689, ..., 9711, 9747, 9684],\n",
              "       [9902, 9908, 9914, ..., 9895, 9905, 9902]])"
            ]
          },
          "metadata": {
            "tags": []
          },
          "execution_count": 31
        }
      ]
    },
    {
      "cell_type": "code",
      "metadata": {
        "id": "VTv6v2YOQcmy",
        "colab_type": "code",
        "colab": {}
      },
      "source": [
        ""
      ],
      "execution_count": null,
      "outputs": []
    }
  ]
}