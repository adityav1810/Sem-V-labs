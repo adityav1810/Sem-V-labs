{
  "nbformat": 4,
  "nbformat_minor": 0,
  "metadata": {
    "kernelspec": {
      "display_name": "Python 3",
      "language": "python",
      "name": "python3"
    },
    "language_info": {
      "codemirror_mode": {
        "name": "ipython",
        "version": 3
      },
      "file_extension": ".py",
      "mimetype": "text/x-python",
      "name": "python",
      "nbconvert_exporter": "python",
      "pygments_lexer": "ipython3",
      "version": "3.8.3-final"
    },
    "toc": {
      "base_numbering": 1,
      "nav_menu": {},
      "number_sections": true,
      "sideBar": true,
      "skip_h1_title": false,
      "title_cell": "Table of Contents",
      "title_sidebar": "Contents",
      "toc_cell": false,
      "toc_position": {},
      "toc_section_display": true,
      "toc_window_display": false
    },
    "colab": {
      "name": "SMA_Lab2.ipynb",
      "provenance": [],
      "include_colab_link": true
    }
  },
  "cells": [
    {
      "cell_type": "markdown",
      "metadata": {
        "id": "view-in-github",
        "colab_type": "text"
      },
      "source": [
        "<a href=\"https://colab.research.google.com/github/tushar2k/Sem-V-labs/blob/master/SMA-%20ECSE345L/SMA_Lab2.ipynb\" target=\"_parent\"><img src=\"https://colab.research.google.com/assets/colab-badge.svg\" alt=\"Open In Colab\"/></a>"
      ]
    },
    {
      "cell_type": "code",
      "metadata": {
        "id": "en0RHcdMGli2",
        "colab_type": "code",
        "colab": {}
      },
      "source": [
        "import numpy as np"
      ],
      "execution_count": null,
      "outputs": []
    },
    {
      "cell_type": "code",
      "metadata": {
        "id": "xijkU1_gGli-",
        "colab_type": "code",
        "colab": {}
      },
      "source": [
        "iter = 9\n",
        "matrixSize = 3**iter"
      ],
      "execution_count": null,
      "outputs": []
    },
    {
      "cell_type": "code",
      "metadata": {
        "id": "ma0a7ZmWGljD",
        "colab_type": "code",
        "colab": {}
      },
      "source": [
        "matr = np.zeros((matrixSize, matrixSize),dtype=np.bool)"
      ],
      "execution_count": null,
      "outputs": []
    },
    {
      "cell_type": "code",
      "metadata": {
        "id": "8CWopcF9GljG",
        "colab_type": "code",
        "colab": {}
      },
      "source": [
        "matr[0][1] = 1\n",
        "matr[0][2] = 1\n",
        "matr[1][0] = 1\n",
        "matr[2][0] = 1"
      ],
      "execution_count": null,
      "outputs": []
    },
    {
      "cell_type": "code",
      "metadata": {
        "id": "RsLV-KiOGljL",
        "colab_type": "code",
        "colab": {}
      },
      "source": [
        "for n_iter in range(2,iter):\n",
        "    step = 3**(n_iter-1)\n",
        "    for x in range(step):\n",
        "        for y in range(step):\n",
        "            matr[x+step][y+step] = matr[x][y]\n",
        "            matr[x+2*step][y+2*step] = matr[x][y]\n",
        "    for i in range(step, 2*step):\n",
        "        matr[0][i] = matr[step][i]\n",
        "        matr[0][i+step] = matr[step][i]\n",
        "        matr[i][0] = matr[i][step]\n",
        "        matr[i+step][0] = matr[i][step]"
      ],
      "execution_count": null,
      "outputs": []
    },
    {
      "cell_type": "code",
      "metadata": {
        "id": "rhclTrTSMaaJ",
        "colab_type": "code",
        "colab": {
          "base_uri": "https://localhost:8080/",
          "height": 35
        },
        "outputId": "eea157be-0431-4182-bdfe-b2902a66fa5b"
      },
      "source": [
        "result=np.where(matr==True)\n",
        "print(result[0])"
      ],
      "execution_count": null,
      "outputs": [
        {
          "output_type": "stream",
          "text": [
            "[   0    0    0 ... 6560 6560 6560]\n"
          ],
          "name": "stdout"
        }
      ]
    },
    {
      "cell_type": "code",
      "metadata": {
        "id": "pdd-EFlFMrq1",
        "colab_type": "code",
        "colab": {}
      },
      "source": [
        "edge=np.array(result).T"
      ],
      "execution_count": null,
      "outputs": []
    },
    {
      "cell_type": "code",
      "metadata": {
        "tags": [],
        "id": "Bxkrn7UpGljc",
        "colab_type": "code",
        "colab": {
          "base_uri": "https://localhost:8080/",
          "height": 156
        },
        "outputId": "74f7b354-3d5f-4be3-a30e-ccef3c8f3113"
      },
      "source": [
        "print(\"edges are: \\n\", edge)"
      ],
      "execution_count": null,
      "outputs": [
        {
          "output_type": "stream",
          "text": [
            "edges are: \n",
            " [[   0    1]\n",
            " [   0    2]\n",
            " [   0    4]\n",
            " ...\n",
            " [6560 6534]\n",
            " [6560 6552]\n",
            " [6560 6558]]\n"
          ],
          "name": "stdout"
        }
      ]
    },
    {
      "cell_type": "code",
      "metadata": {
        "id": "Cg1hcuPSGljn",
        "colab_type": "code",
        "colab": {}
      },
      "source": [
        "degree=np.sum(matr,1)"
      ],
      "execution_count": null,
      "outputs": []
    },
    {
      "cell_type": "code",
      "metadata": {
        "id": "Ym5Yui4LPpnt",
        "colab_type": "code",
        "colab": {
          "base_uri": "https://localhost:8080/",
          "height": 35
        },
        "outputId": "30cef7b1-0191-40dc-c9fb-af2ceb685f4b"
      },
      "source": [
        "degree"
      ],
      "execution_count": null,
      "outputs": [
        {
          "output_type": "execute_result",
          "data": {
            "text/plain": [
              "array([4374,    1,    1, ...,    0,    0,    0])"
            ]
          },
          "metadata": {
            "tags": []
          },
          "execution_count": 10
        }
      ]
    },
    {
      "cell_type": "code",
      "metadata": {
        "id": "OEVP_p2LPq1Y",
        "colab_type": "code",
        "colab": {}
      },
      "source": [
        "unique, counts = np.unique(degree, return_counts=True)"
      ],
      "execution_count": null,
      "outputs": []
    },
    {
      "cell_type": "code",
      "metadata": {
        "id": "6Hte5NfAQA9n",
        "colab_type": "code",
        "colab": {}
      },
      "source": [
        "degree_prob=counts/len(degree)"
      ],
      "execution_count": null,
      "outputs": []
    },
    {
      "cell_type": "code",
      "metadata": {
        "id": "8_a_CqnWS_c9",
        "colab_type": "code",
        "colab": {
          "base_uri": "https://localhost:8080/",
          "height": 87
        },
        "outputId": "22120a2a-f943-4887-99c5-5d25e9aac205"
      },
      "source": [
        "degree_prob"
      ],
      "execution_count": null,
      "outputs": [
        {
          "output_type": "execute_result",
          "data": {
            "text/plain": [
              "array([6.66666667e-01, 1.01610527e-04, 7.54966214e-02, 8.53528426e-03,\n",
              "       2.84509475e-02, 5.69018950e-02, 9.29736321e-02, 4.55215160e-02,\n",
              "       1.30061474e-02, 8.23045267e-03, 2.74348422e-03, 9.14494742e-04,\n",
              "       3.04831581e-04, 1.01610527e-04, 5.08052634e-05])"
            ]
          },
          "metadata": {
            "tags": []
          },
          "execution_count": 13
        }
      ]
    },
    {
      "cell_type": "code",
      "metadata": {
        "id": "UAmFbZXBTeDG",
        "colab_type": "code",
        "colab": {
          "base_uri": "https://localhost:8080/",
          "height": 52
        },
        "outputId": "050f53f5-8b5d-4243-98f8-a9df87f5caed"
      },
      "source": [
        "unique"
      ],
      "execution_count": null,
      "outputs": [
        {
          "output_type": "execute_result",
          "data": {
            "text/plain": [
              "array([   0,    1,    2,    3,    4,    5,    6,    7,    8,   18,   54,\n",
              "        162,  486, 1458, 4374])"
            ]
          },
          "metadata": {
            "tags": []
          },
          "execution_count": 14
        }
      ]
    },
    {
      "cell_type": "code",
      "metadata": {
        "id": "5BXbRzkbQCg9",
        "colab_type": "code",
        "colab": {}
      },
      "source": [
        "import matplotlib.pyplot as plt"
      ],
      "execution_count": null,
      "outputs": []
    },
    {
      "cell_type": "code",
      "metadata": {
        "id": "ADFocFiSQF0-",
        "colab_type": "code",
        "colab": {
          "base_uri": "https://localhost:8080/",
          "height": 283
        },
        "outputId": "767d53cd-5e9d-4830-a606-6f632dcc2c25"
      },
      "source": [
        "plt.plot(unique,degree_prob)"
      ],
      "execution_count": null,
      "outputs": [
        {
          "output_type": "execute_result",
          "data": {
            "text/plain": [
              "[<matplotlib.lines.Line2D at 0x7f8754d79b38>]"
            ]
          },
          "metadata": {
            "tags": []
          },
          "execution_count": 17
        },
        {
          "output_type": "display_data",
          "data": {
            "image/png": "[encoded data removed]",
            "text/plain": [
              "<Figure size 432x288 with 1 Axes>"
            ]
          },
          "metadata": {
            "tags": [],
            "needs_background": "light"
          }
        }
      ]
    },
    {
      "cell_type": "code",
      "metadata": {
        "id": "rISYftD_QKMv",
        "colab_type": "code",
        "colab": {}
      },
      "source": [
        "import pandas as pd\n",
        "data=pd.DataFrame(edge)"
      ],
      "execution_count": null,
      "outputs": []
    },
    {
      "cell_type": "code",
      "metadata": {
        "id": "QPnJhskObO7v",
        "colab_type": "code",
        "colab": {
          "base_uri": "https://localhost:8080/",
          "height": 415
        },
        "outputId": "a181a695-263f-41fc-d393-a322c456980b"
      },
      "source": [
        "data"
      ],
      "execution_count": null,
      "outputs": [
        {
          "output_type": "execute_result",
          "data": {
            "text/html": [
              "<div>\n",
              "<style scoped>\n",
              "    .dataframe tbody tr th:only-of-type {\n",
              "        vertical-align: middle;\n",
              "    }\n",
              "\n",
              "    .dataframe tbody tr th {\n",
              "        vertical-align: top;\n",
              "    }\n",
              "\n",
              "    .dataframe thead th {\n",
              "        text-align: right;\n",
              "    }\n",
              "</style>\n",
              "<table border=\"1\" class=\"dataframe\">\n",
              "  <thead>\n",
              "    <tr style=\"text-align: right;\">\n",
              "      <th></th>\n",
              "      <th>0</th>\n",
              "      <th>1</th>\n",
              "    </tr>\n",
              "  </thead>\n",
              "  <tbody>\n",
              "    <tr>\n",
              "      <th>0</th>\n",
              "      <td>0</td>\n",
              "      <td>1</td>\n",
              "    </tr>\n",
              "    <tr>\n",
              "      <th>1</th>\n",
              "      <td>0</td>\n",
              "      <td>2</td>\n",
              "    </tr>\n",
              "    <tr>\n",
              "      <th>2</th>\n",
              "      <td>0</td>\n",
              "      <td>4</td>\n",
              "    </tr>\n",
              "    <tr>\n",
              "      <th>3</th>\n",
              "      <td>0</td>\n",
              "      <td>5</td>\n",
              "    </tr>\n",
              "    <tr>\n",
              "      <th>4</th>\n",
              "      <td>0</td>\n",
              "      <td>7</td>\n",
              "    </tr>\n",
              "    <tr>\n",
              "      <th>...</th>\n",
              "      <td>...</td>\n",
              "      <td>...</td>\n",
              "    </tr>\n",
              "    <tr>\n",
              "      <th>49567</th>\n",
              "      <td>6560</td>\n",
              "      <td>6318</td>\n",
              "    </tr>\n",
              "    <tr>\n",
              "      <th>49568</th>\n",
              "      <td>6560</td>\n",
              "      <td>6480</td>\n",
              "    </tr>\n",
              "    <tr>\n",
              "      <th>49569</th>\n",
              "      <td>6560</td>\n",
              "      <td>6534</td>\n",
              "    </tr>\n",
              "    <tr>\n",
              "      <th>49570</th>\n",
              "      <td>6560</td>\n",
              "      <td>6552</td>\n",
              "    </tr>\n",
              "    <tr>\n",
              "      <th>49571</th>\n",
              "      <td>6560</td>\n",
              "      <td>6558</td>\n",
              "    </tr>\n",
              "  </tbody>\n",
              "</table>\n",
              "<p>49572 rows × 2 columns</p>\n",
              "</div>"
            ],
            "text/plain": [
              "          0     1\n",
              "0         0     1\n",
              "1         0     2\n",
              "2         0     4\n",
              "3         0     5\n",
              "4         0     7\n",
              "...     ...   ...\n",
              "49567  6560  6318\n",
              "49568  6560  6480\n",
              "49569  6560  6534\n",
              "49570  6560  6552\n",
              "49571  6560  6558\n",
              "\n",
              "[49572 rows x 2 columns]"
            ]
          },
          "metadata": {
            "tags": []
          },
          "execution_count": 147
        }
      ]
    },
    {
      "cell_type": "code",
      "metadata": {
        "id": "zFvriiLoVwB0",
        "colab_type": "code",
        "colab": {}
      },
      "source": [
        "data.to_csv(path_or_buf='/content/d.csv')"
      ],
      "execution_count": null,
      "outputs": []
    }
  ]
}