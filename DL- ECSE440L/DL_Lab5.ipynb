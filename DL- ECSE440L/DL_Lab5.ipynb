{
  "nbformat": 4,
  "nbformat_minor": 0,
  "metadata": {
    "colab": {
      "name": "DL_Lab5.ipynb",
      "provenance": [],
      "collapsed_sections": [],
      "authorship_tag": "ABX9TyPZMHq/8Z5rF9jX0sM8cI8+",
      "include_colab_link": true
    },
    "kernelspec": {
      "name": "python3",
      "display_name": "Python 3"
    }
  },
  "cells": [
    {
      "cell_type": "markdown",
      "metadata": {
        "id": "view-in-github",
        "colab_type": "text"
      },
      "source": [
        "<a href=\"https://colab.research.google.com/github/tushar2k/Sem-V-labs/blob/master/DL-%20ECSE440L/DL_Lab5.ipynb\" target=\"_parent\"><img src=\"https://colab.research.google.com/assets/colab-badge.svg\" alt=\"Open In Colab\"/></a>"
      ]
    },
    {
      "cell_type": "code",
      "metadata": {
        "id": "6g9EU5pTH7j6",
        "colab_type": "code",
        "colab": {}
      },
      "source": [
        "import pandas as pd\n",
        "import numpy as np\n",
        "from sklearn.feature_extraction.text import CountVectorizer\n",
        "from keras.models import Sequential\n",
        "from keras import layers\n",
        "from keras.datasets import mnist\n",
        "from matplotlib import pyplot\n",
        "import matplotlib.pyplot as plt\n",
        "from keras.utils import to_categorical\n",
        "from keras.layers import *\n",
        "from keras.optimizers import SGD\n",
        "import PIL\n",
        "import PIL.Image\n",
        "import tensorflow as tf\n",
        "from os import listdir\n",
        "import cv2\n",
        "from sklearn.model_selection import train_test_split"
      ],
      "execution_count": 1,
      "outputs": []
    },
    {
      "cell_type": "code",
      "metadata": {
        "id": "r1YC9RdcTWa6",
        "colab_type": "code",
        "colab": {
          "base_uri": "https://localhost:8080/",
          "height": 208
        },
        "outputId": "b2833746-4eee-43d6-fb57-ab6a4002e5a3"
      },
      "source": [
        "!wget https://archive.ics.uci.edu/ml/machine-learning-databases/00389/DevanagariHandwrittenCharacterDataset.zip\n",
        "!unzip -q DevanagariHandwrittenCharacterDataset"
      ],
      "execution_count": 2,
      "outputs": [
        {
          "output_type": "stream",
          "text": [
            "--2020-09-25 10:55:26--  https://archive.ics.uci.edu/ml/machine-learning-databases/00389/DevanagariHandwrittenCharacterDataset.zip\n",
            "Resolving archive.ics.uci.edu (archive.ics.uci.edu)... 128.195.10.252\n",
            "Connecting to archive.ics.uci.edu (archive.ics.uci.edu)|128.195.10.252|:443... connected.\n",
            "HTTP request sent, awaiting response... 200 OK\n",
            "Length: 80417803 (77M) [application/x-httpd-php]\n",
            "Saving to: ‘DevanagariHandwrittenCharacterDataset.zip’\n",
            "\n",
            "DevanagariHandwritt 100%[===================>]  76.69M  35.9MB/s    in 2.1s    \n",
            "\n",
            "2020-09-25 10:55:28 (35.9 MB/s) - ‘DevanagariHandwrittenCharacterDataset.zip’ saved [80417803/80417803]\n",
            "\n"
          ],
          "name": "stdout"
        }
      ]
    },
    {
      "cell_type": "code",
      "metadata": {
        "id": "KdeeeSCzZaPT",
        "colab_type": "code",
        "colab": {}
      },
      "source": [
        "# cd /content/DevanagariHandwrittenCharacterDataset/Train/"
      ],
      "execution_count": 3,
      "outputs": []
    },
    {
      "cell_type": "code",
      "metadata": {
        "id": "EIO7pbceZkWa",
        "colab_type": "code",
        "colab": {}
      },
      "source": [
        "imroot=listdir('/content/DevanagariHandwrittenCharacterDataset/Train')"
      ],
      "execution_count": 4,
      "outputs": []
    },
    {
      "cell_type": "code",
      "metadata": {
        "id": "-fKIWJjtTjK9",
        "colab_type": "code",
        "colab": {
          "base_uri": "https://localhost:8080/",
          "height": 191
        },
        "outputId": "d3916cca-7d80-4404-e293-cf72e86d4566"
      },
      "source": [
        "imroot=list(i for i in imroot if ('digit' in i))\n",
        "imroot"
      ],
      "execution_count": 5,
      "outputs": [
        {
          "output_type": "execute_result",
          "data": {
            "text/plain": [
              "['digit_1',\n",
              " 'digit_9',\n",
              " 'digit_2',\n",
              " 'digit_7',\n",
              " 'digit_8',\n",
              " 'digit_5',\n",
              " 'digit_0',\n",
              " 'digit_6',\n",
              " 'digit_4',\n",
              " 'digit_3']"
            ]
          },
          "metadata": {
            "tags": []
          },
          "execution_count": 5
        }
      ]
    },
    {
      "cell_type": "code",
      "metadata": {
        "id": "p6iyYB6jeSul",
        "colab_type": "code",
        "colab": {
          "base_uri": "https://localhost:8080/",
          "height": 191
        },
        "outputId": "01597e7f-bd10-4f99-cb61-50b53ff65fcd"
      },
      "source": [
        "imroot.sort()\n",
        "imroot"
      ],
      "execution_count": 6,
      "outputs": [
        {
          "output_type": "execute_result",
          "data": {
            "text/plain": [
              "['digit_0',\n",
              " 'digit_1',\n",
              " 'digit_2',\n",
              " 'digit_3',\n",
              " 'digit_4',\n",
              " 'digit_5',\n",
              " 'digit_6',\n",
              " 'digit_7',\n",
              " 'digit_8',\n",
              " 'digit_9']"
            ]
          },
          "metadata": {
            "tags": []
          },
          "execution_count": 6
        }
      ]
    },
    {
      "cell_type": "code",
      "metadata": {
        "id": "lXah29fbToEU",
        "colab_type": "code",
        "colab": {
          "base_uri": "https://localhost:8080/",
          "height": 191
        },
        "outputId": "62029ca9-692c-44a4-a053-62a094faf160"
      },
      "source": [
        "X=[]\n",
        "for i in imroot:\n",
        "    if i:\n",
        "        imfol=listdir('/content/DevanagariHandwrittenCharacterDataset/Train/'+i)\n",
        "        print(len(imfol))\n",
        "        for j in imfol:\n",
        "            a= cv2.imread('/content/DevanagariHandwrittenCharacterDataset/Train/'+i+'/'+j,0)\n",
        "            a=np.array(a)\n",
        "            X.append(a)"
      ],
      "execution_count": 7,
      "outputs": [
        {
          "output_type": "stream",
          "text": [
            "1700\n",
            "1700\n",
            "1700\n",
            "1700\n",
            "1700\n",
            "1700\n",
            "1700\n",
            "1700\n",
            "1700\n",
            "1700\n"
          ],
          "name": "stdout"
        }
      ]
    },
    {
      "cell_type": "code",
      "metadata": {
        "id": "j_-K6Pm1Y_Xv",
        "colab_type": "code",
        "colab": {
          "base_uri": "https://localhost:8080/",
          "height": 35
        },
        "outputId": "19969adb-aef6-431b-ff14-e6f3d803253e"
      },
      "source": [
        "# a=cv2.imread('/content/DevanagariHandwrittenCharacterDataset/Train/digit_3/67150.png',0)\n",
        "X=np.array(X)\n",
        "X.shape"
      ],
      "execution_count": 8,
      "outputs": [
        {
          "output_type": "execute_result",
          "data": {
            "text/plain": [
              "(17000, 32, 32)"
            ]
          },
          "metadata": {
            "tags": []
          },
          "execution_count": 8
        }
      ]
    },
    {
      "cell_type": "code",
      "metadata": {
        "id": "D8m9l79XZKPj",
        "colab_type": "code",
        "colab": {
          "base_uri": "https://localhost:8080/",
          "height": 268
        },
        "outputId": "bd5b487b-2f3f-473b-cefc-c433d300b4b4"
      },
      "source": [
        "for i in range(9):\n",
        "    pyplot.subplot(330 + 1 + i)\n",
        "    pyplot.imshow(X[i*1700], pyplot.get_cmap('gray'))\n",
        "pyplot.show()"
      ],
      "execution_count": 9,
      "outputs": [
        {
          "output_type": "display_data",
          "data": {
            "image/png": "[encoded data removed]",
            "text/plain": [
              "<Figure size 432x288 with 9 Axes>"
            ]
          },
          "metadata": {
            "tags": [],
            "needs_background": "light"
          }
        }
      ]
    },
    {
      "cell_type": "code",
      "metadata": {
        "id": "ds4CzOk6ZUN6",
        "colab_type": "code",
        "colab": {}
      },
      "source": [
        "Y=np.array(list([x]*1700 for x in range(10)))"
      ],
      "execution_count": 10,
      "outputs": []
    },
    {
      "cell_type": "code",
      "metadata": {
        "id": "77NoKiUIiYxJ",
        "colab_type": "code",
        "colab": {
          "base_uri": "https://localhost:8080/",
          "height": 35
        },
        "outputId": "c5a5b8c5-1c06-4a32-d41b-9cb1623027e0"
      },
      "source": [
        "Y=Y.reshape(17000,)\n",
        "Y"
      ],
      "execution_count": 11,
      "outputs": [
        {
          "output_type": "execute_result",
          "data": {
            "text/plain": [
              "array([0, 0, 0, ..., 9, 9, 9])"
            ]
          },
          "metadata": {
            "tags": []
          },
          "execution_count": 11
        }
      ]
    },
    {
      "cell_type": "code",
      "metadata": {
        "id": "Xh1jMX5picPs",
        "colab_type": "code",
        "colab": {
          "base_uri": "https://localhost:8080/",
          "height": 35
        },
        "outputId": "4d9d7e1b-eb15-4be1-b058-4039099015b2"
      },
      "source": [
        "X = X.reshape((X.shape[0],1024))\n",
        "Y = to_categorical(Y)\n",
        "print(X.shape, Y.shape)"
      ],
      "execution_count": 12,
      "outputs": [
        {
          "output_type": "stream",
          "text": [
            "(17000, 1024) (17000, 10)\n"
          ],
          "name": "stdout"
        }
      ]
    },
    {
      "cell_type": "code",
      "metadata": {
        "id": "T6CFE8oTlQs1",
        "colab_type": "code",
        "colab": {
          "base_uri": "https://localhost:8080/",
          "height": 139
        },
        "outputId": "939ec311-cd92-4bc2-8ae9-df69818fdc6b"
      },
      "source": [
        "Y"
      ],
      "execution_count": 13,
      "outputs": [
        {
          "output_type": "execute_result",
          "data": {
            "text/plain": [
              "array([[1., 0., 0., ..., 0., 0., 0.],\n",
              "       [1., 0., 0., ..., 0., 0., 0.],\n",
              "       [1., 0., 0., ..., 0., 0., 0.],\n",
              "       ...,\n",
              "       [0., 0., 0., ..., 0., 0., 1.],\n",
              "       [0., 0., 0., ..., 0., 0., 1.],\n",
              "       [0., 0., 0., ..., 0., 0., 1.]], dtype=float32)"
            ]
          },
          "metadata": {
            "tags": []
          },
          "execution_count": 13
        }
      ]
    },
    {
      "cell_type": "code",
      "metadata": {
        "id": "3aVf28zZjgCl",
        "colab_type": "code",
        "colab": {
          "base_uri": "https://localhost:8080/",
          "height": 52
        },
        "outputId": "e614ed7b-d48d-47e3-9c49-c60521d41b7d"
      },
      "source": [
        "trainX,testX,trainy,testy=train_test_split(X,Y,test_size=0.25,random_state=32)\n",
        "print(trainX.shape, trainy.shape)\n",
        "print(testX.shape, testy.shape)"
      ],
      "execution_count": 14,
      "outputs": [
        {
          "output_type": "stream",
          "text": [
            "(12750, 1024) (12750, 10)\n",
            "(4250, 1024) (4250, 10)\n"
          ],
          "name": "stdout"
        }
      ]
    },
    {
      "cell_type": "code",
      "metadata": {
        "id": "sgz1U_L1oUxa",
        "colab_type": "code",
        "colab": {}
      },
      "source": [
        "trainX=trainX/255.0\n",
        "testX=testX/255.0\n",
        "X_train=trainX\n",
        "X_test=testX\n",
        "y_train=trainy\n",
        "y_test=testy"
      ],
      "execution_count": 15,
      "outputs": []
    },
    {
      "cell_type": "code",
      "metadata": {
        "id": "EkwXRk5affRj",
        "colab_type": "code",
        "colab": {}
      },
      "source": [
        "# X_train=X_train.reshape(12750,32,32,1)\n",
        "# X_test=X_test.reshape(4250,32,32,1)"
      ],
      "execution_count": 16,
      "outputs": []
    },
    {
      "cell_type": "code",
      "metadata": {
        "id": "Gc8fkSZOkiCI",
        "colab_type": "code",
        "colab": {
          "base_uri": "https://localhost:8080/",
          "height": 1000
        },
        "outputId": "ab400c22-773a-4092-e421-c49b85bdcc7c"
      },
      "source": [
        "x=3\n",
        "acc=[]\n",
        "his=[]\n",
        "input_dim = X_train.shape\n",
        "while x<11:\n",
        "    model = Sequential()\n",
        "    model.add(Dense(pow(2,x),input_shape=input_dim,activation='relu'))\n",
        "    model.add(layers.Dense(10, input_shape=input_dim, activation='softmax'))\n",
        "    model.compile(loss='categorical_crossentropy', optimizer='adam', metrics=['accuracy'])\n",
        "    model.summary()\n",
        "    his.append(model.fit(X_train,y_train,epochs=20))\n",
        "    acc.append(model.evaluate(X_test,y_test)[1])\n",
        "    x+=1"
      ],
      "execution_count": 17,
      "outputs": [
        {
          "output_type": "stream",
          "text": [
            "Model: \"sequential\"\n",
            "_________________________________________________________________\n",
            "Layer (type)                 Output Shape              Param #   \n",
            "=================================================================\n",
            "dense (Dense)                (None, 12750, 8)          8200      \n",
            "_________________________________________________________________\n",
            "dense_1 (Dense)              (None, 12750, 10)         90        \n",
            "=================================================================\n",
            "Total params: 8,290\n",
            "Trainable params: 8,290\n",
            "Non-trainable params: 0\n",
            "_________________________________________________________________\n",
            "Epoch 1/20\n",
            "WARNING:tensorflow:Model was constructed with shape (None, 12750, 1024) for input Tensor(\"dense_input:0\", shape=(None, 12750, 1024), dtype=float32), but it was called on an input with incompatible shape (None, 1024).\n",
            "WARNING:tensorflow:Model was constructed with shape (None, 12750, 1024) for input Tensor(\"dense_input:0\", shape=(None, 12750, 1024), dtype=float32), but it was called on an input with incompatible shape (None, 1024).\n",
            "399/399 [==============================] - 0s 1ms/step - loss: 0.7558 - accuracy: 0.7632\n",
            "Epoch 2/20\n",
            "399/399 [==============================] - 1s 1ms/step - loss: 0.3263 - accuracy: 0.9049\n",
            "Epoch 3/20\n",
            "399/399 [==============================] - 1s 1ms/step - loss: 0.2475 - accuracy: 0.9271\n",
            "Epoch 4/20\n",
            "399/399 [==============================] - 1s 1ms/step - loss: 0.2065 - accuracy: 0.9422\n",
            "Epoch 5/20\n",
            "399/399 [==============================] - 1s 2ms/step - loss: 0.1866 - accuracy: 0.9453\n",
            "Epoch 6/20\n",
            "399/399 [==============================] - 1s 1ms/step - loss: 0.1707 - accuracy: 0.9500\n",
            "Epoch 7/20\n",
            "399/399 [==============================] - 1s 1ms/step - loss: 0.1576 - accuracy: 0.9555\n",
            "Epoch 8/20\n",
            "399/399 [==============================] - 1s 1ms/step - loss: 0.1480 - accuracy: 0.9581\n",
            "Epoch 9/20\n",
            "399/399 [==============================] - 0s 1ms/step - loss: 0.1413 - accuracy: 0.9598\n",
            "Epoch 10/20\n",
            "399/399 [==============================] - 0s 1ms/step - loss: 0.1336 - accuracy: 0.9631\n",
            "Epoch 11/20\n",
            "399/399 [==============================] - 0s 1ms/step - loss: 0.1282 - accuracy: 0.9638\n",
            "Epoch 12/20\n",
            "399/399 [==============================] - 0s 1ms/step - loss: 0.1239 - accuracy: 0.9643\n",
            "Epoch 13/20\n",
            "399/399 [==============================] - 0s 1ms/step - loss: 0.1192 - accuracy: 0.9659\n",
            "Epoch 14/20\n",
            "399/399 [==============================] - 0s 1ms/step - loss: 0.1142 - accuracy: 0.9675\n",
            "Epoch 15/20\n",
            "399/399 [==============================] - 0s 1ms/step - loss: 0.1098 - accuracy: 0.9683\n",
            "Epoch 16/20\n",
            "399/399 [==============================] - 1s 1ms/step - loss: 0.1061 - accuracy: 0.9691\n",
            "Epoch 17/20\n",
            "399/399 [==============================] - 0s 1ms/step - loss: 0.1028 - accuracy: 0.9717\n",
            "Epoch 18/20\n",
            "399/399 [==============================] - 0s 1ms/step - loss: 0.0999 - accuracy: 0.9716\n",
            "Epoch 19/20\n",
            "399/399 [==============================] - 0s 1ms/step - loss: 0.0969 - accuracy: 0.9730\n",
            "Epoch 20/20\n",
            "399/399 [==============================] - 0s 1ms/step - loss: 0.0938 - accuracy: 0.9738\n",
            "WARNING:tensorflow:Model was constructed with shape (None, 12750, 1024) for input Tensor(\"dense_input:0\", shape=(None, 12750, 1024), dtype=float32), but it was called on an input with incompatible shape (None, 1024).\n",
            "133/133 [==============================] - 0s 911us/step - loss: 0.1832 - accuracy: 0.9473\n",
            "Model: \"sequential_1\"\n",
            "_________________________________________________________________\n",
            "Layer (type)                 Output Shape              Param #   \n",
            "=================================================================\n",
            "dense_2 (Dense)              (None, 12750, 16)         16400     \n",
            "_________________________________________________________________\n",
            "dense_3 (Dense)              (None, 12750, 10)         170       \n",
            "=================================================================\n",
            "Total params: 16,570\n",
            "Trainable params: 16,570\n",
            "Non-trainable params: 0\n",
            "_________________________________________________________________\n",
            "Epoch 1/20\n",
            "WARNING:tensorflow:Model was constructed with shape (None, 12750, 1024) for input Tensor(\"dense_2_input:0\", shape=(None, 12750, 1024), dtype=float32), but it was called on an input with incompatible shape (None, 1024).\n",
            "WARNING:tensorflow:Model was constructed with shape (None, 12750, 1024) for input Tensor(\"dense_2_input:0\", shape=(None, 12750, 1024), dtype=float32), but it was called on an input with incompatible shape (None, 1024).\n",
            "399/399 [==============================] - 1s 1ms/step - loss: 0.7420 - accuracy: 0.7703\n",
            "Epoch 2/20\n",
            "399/399 [==============================] - 1s 1ms/step - loss: 0.2100 - accuracy: 0.9442\n",
            "Epoch 3/20\n",
            "399/399 [==============================] - 0s 1ms/step - loss: 0.1619 - accuracy: 0.9553\n",
            "Epoch 4/20\n",
            "399/399 [==============================] - 1s 1ms/step - loss: 0.1316 - accuracy: 0.9616\n",
            "Epoch 5/20\n",
            "399/399 [==============================] - 1s 1ms/step - loss: 0.1141 - accuracy: 0.9673\n",
            "Epoch 6/20\n",
            "399/399 [==============================] - 1s 1ms/step - loss: 0.1002 - accuracy: 0.9715\n",
            "Epoch 7/20\n",
            "399/399 [==============================] - 0s 1ms/step - loss: 0.0873 - accuracy: 0.9755\n",
            "Epoch 8/20\n",
            "399/399 [==============================] - 0s 1ms/step - loss: 0.0801 - accuracy: 0.9780\n",
            "Epoch 9/20\n",
            "399/399 [==============================] - 0s 1ms/step - loss: 0.0712 - accuracy: 0.9799\n",
            "Epoch 10/20\n",
            "399/399 [==============================] - 0s 1ms/step - loss: 0.0659 - accuracy: 0.9823\n",
            "Epoch 11/20\n",
            "399/399 [==============================] - 1s 1ms/step - loss: 0.0584 - accuracy: 0.9845\n",
            "Epoch 12/20\n",
            "399/399 [==============================] - 1s 1ms/step - loss: 0.0565 - accuracy: 0.9866\n",
            "Epoch 13/20\n",
            "399/399 [==============================] - 1s 1ms/step - loss: 0.0513 - accuracy: 0.9871\n",
            "Epoch 14/20\n",
            "399/399 [==============================] - 1s 1ms/step - loss: 0.0449 - accuracy: 0.9887\n",
            "Epoch 15/20\n",
            "399/399 [==============================] - 0s 1ms/step - loss: 0.0420 - accuracy: 0.9897\n",
            "Epoch 16/20\n",
            "399/399 [==============================] - 1s 1ms/step - loss: 0.0381 - accuracy: 0.9907\n",
            "Epoch 17/20\n",
            "399/399 [==============================] - 0s 1ms/step - loss: 0.0353 - accuracy: 0.9925\n",
            "Epoch 18/20\n",
            "399/399 [==============================] - 1s 1ms/step - loss: 0.0349 - accuracy: 0.9904\n",
            "Epoch 19/20\n",
            "399/399 [==============================] - 0s 1ms/step - loss: 0.0301 - accuracy: 0.9925\n",
            "Epoch 20/20\n",
            "399/399 [==============================] - 1s 1ms/step - loss: 0.0292 - accuracy: 0.9929\n",
            "WARNING:tensorflow:Model was constructed with shape (None, 12750, 1024) for input Tensor(\"dense_2_input:0\", shape=(None, 12750, 1024), dtype=float32), but it was called on an input with incompatible shape (None, 1024).\n",
            "133/133 [==============================] - 0s 920us/step - loss: 0.1543 - accuracy: 0.9565\n",
            "Model: \"sequential_2\"\n",
            "_________________________________________________________________\n",
            "Layer (type)                 Output Shape              Param #   \n",
            "=================================================================\n",
            "dense_4 (Dense)              (None, 12750, 32)         32800     \n",
            "_________________________________________________________________\n",
            "dense_5 (Dense)              (None, 12750, 10)         330       \n",
            "=================================================================\n",
            "Total params: 33,130\n",
            "Trainable params: 33,130\n",
            "Non-trainable params: 0\n",
            "_________________________________________________________________\n",
            "Epoch 1/20\n",
            "WARNING:tensorflow:Model was constructed with shape (None, 12750, 1024) for input Tensor(\"dense_4_input:0\", shape=(None, 12750, 1024), dtype=float32), but it was called on an input with incompatible shape (None, 1024).\n",
            "WARNING:tensorflow:Model was constructed with shape (None, 12750, 1024) for input Tensor(\"dense_4_input:0\", shape=(None, 12750, 1024), dtype=float32), but it was called on an input with incompatible shape (None, 1024).\n",
            "399/399 [==============================] - 1s 1ms/step - loss: 0.4195 - accuracy: 0.8800\n",
            "Epoch 2/20\n",
            "399/399 [==============================] - 1s 1ms/step - loss: 0.1582 - accuracy: 0.9558\n",
            "Epoch 3/20\n",
            "399/399 [==============================] - 1s 1ms/step - loss: 0.1174 - accuracy: 0.9675\n",
            "Epoch 4/20\n",
            "399/399 [==============================] - 1s 1ms/step - loss: 0.0960 - accuracy: 0.9725\n",
            "Epoch 5/20\n",
            "399/399 [==============================] - 1s 1ms/step - loss: 0.0773 - accuracy: 0.9796\n",
            "Epoch 6/20\n",
            "399/399 [==============================] - 1s 1ms/step - loss: 0.0650 - accuracy: 0.9820\n",
            "Epoch 7/20\n",
            "399/399 [==============================] - 1s 1ms/step - loss: 0.0538 - accuracy: 0.9860\n",
            "Epoch 8/20\n",
            "399/399 [==============================] - 1s 1ms/step - loss: 0.0469 - accuracy: 0.9880\n",
            "Epoch 9/20\n",
            "399/399 [==============================] - 1s 1ms/step - loss: 0.0376 - accuracy: 0.9905\n",
            "Epoch 10/20\n",
            "399/399 [==============================] - 1s 1ms/step - loss: 0.0323 - accuracy: 0.9922\n",
            "Epoch 11/20\n",
            "399/399 [==============================] - 1s 1ms/step - loss: 0.0283 - accuracy: 0.9935\n",
            "Epoch 12/20\n",
            "399/399 [==============================] - 1s 1ms/step - loss: 0.0228 - accuracy: 0.9949\n",
            "Epoch 13/20\n",
            "399/399 [==============================] - 1s 1ms/step - loss: 0.0213 - accuracy: 0.9954\n",
            "Epoch 14/20\n",
            "399/399 [==============================] - 1s 1ms/step - loss: 0.0173 - accuracy: 0.9970\n",
            "Epoch 15/20\n",
            "399/399 [==============================] - 1s 1ms/step - loss: 0.0150 - accuracy: 0.9974\n",
            "Epoch 16/20\n",
            "399/399 [==============================] - 1s 1ms/step - loss: 0.0126 - accuracy: 0.9975\n",
            "Epoch 17/20\n",
            "399/399 [==============================] - 1s 1ms/step - loss: 0.0096 - accuracy: 0.9985\n",
            "Epoch 18/20\n",
            "399/399 [==============================] - 1s 1ms/step - loss: 0.0109 - accuracy: 0.9979\n",
            "Epoch 19/20\n",
            "399/399 [==============================] - 1s 1ms/step - loss: 0.0089 - accuracy: 0.9984\n",
            "Epoch 20/20\n",
            "399/399 [==============================] - 1s 1ms/step - loss: 0.0111 - accuracy: 0.9974\n",
            "WARNING:tensorflow:Model was constructed with shape (None, 12750, 1024) for input Tensor(\"dense_4_input:0\", shape=(None, 12750, 1024), dtype=float32), but it was called on an input with incompatible shape (None, 1024).\n",
            "133/133 [==============================] - 0s 925us/step - loss: 0.1113 - accuracy: 0.9696\n",
            "Model: \"sequential_3\"\n",
            "_________________________________________________________________\n",
            "Layer (type)                 Output Shape              Param #   \n",
            "=================================================================\n",
            "dense_6 (Dense)              (None, 12750, 64)         65600     \n",
            "_________________________________________________________________\n",
            "dense_7 (Dense)              (None, 12750, 10)         650       \n",
            "=================================================================\n",
            "Total params: 66,250\n",
            "Trainable params: 66,250\n",
            "Non-trainable params: 0\n",
            "_________________________________________________________________\n",
            "Epoch 1/20\n",
            "WARNING:tensorflow:Model was constructed with shape (None, 12750, 1024) for input Tensor(\"dense_6_input:0\", shape=(None, 12750, 1024), dtype=float32), but it was called on an input with incompatible shape (None, 1024).\n",
            "WARNING:tensorflow:Model was constructed with shape (None, 12750, 1024) for input Tensor(\"dense_6_input:0\", shape=(None, 12750, 1024), dtype=float32), but it was called on an input with incompatible shape (None, 1024).\n",
            "399/399 [==============================] - 1s 2ms/step - loss: 0.3628 - accuracy: 0.8944\n",
            "Epoch 2/20\n",
            "399/399 [==============================] - 1s 2ms/step - loss: 0.1313 - accuracy: 0.9630\n",
            "Epoch 3/20\n",
            "399/399 [==============================] - 1s 2ms/step - loss: 0.0874 - accuracy: 0.9769\n",
            "Epoch 4/20\n",
            "399/399 [==============================] - 1s 2ms/step - loss: 0.0636 - accuracy: 0.9816\n",
            "Epoch 5/20\n",
            "399/399 [==============================] - 1s 2ms/step - loss: 0.0427 - accuracy: 0.9904\n",
            "Epoch 6/20\n",
            "399/399 [==============================] - 1s 1ms/step - loss: 0.0330 - accuracy: 0.9924\n",
            "Epoch 7/20\n",
            "399/399 [==============================] - 1s 2ms/step - loss: 0.0257 - accuracy: 0.9945\n",
            "Epoch 8/20\n",
            "399/399 [==============================] - 1s 2ms/step - loss: 0.0186 - accuracy: 0.9965\n",
            "Epoch 9/20\n",
            "399/399 [==============================] - 1s 2ms/step - loss: 0.0120 - accuracy: 0.9979\n",
            "Epoch 10/20\n",
            "399/399 [==============================] - 1s 2ms/step - loss: 0.0088 - accuracy: 0.9988\n",
            "Epoch 11/20\n",
            "399/399 [==============================] - 1s 2ms/step - loss: 0.0080 - accuracy: 0.9988\n",
            "Epoch 12/20\n",
            "399/399 [==============================] - 1s 2ms/step - loss: 0.0066 - accuracy: 0.9991\n",
            "Epoch 13/20\n",
            "399/399 [==============================] - 1s 1ms/step - loss: 0.0094 - accuracy: 0.9978\n",
            "Epoch 14/20\n",
            "399/399 [==============================] - 1s 2ms/step - loss: 0.0037 - accuracy: 0.9997\n",
            "Epoch 15/20\n",
            "399/399 [==============================] - 1s 2ms/step - loss: 0.0035 - accuracy: 0.9992\n",
            "Epoch 16/20\n",
            "399/399 [==============================] - 1s 2ms/step - loss: 0.0188 - accuracy: 0.9941\n",
            "Epoch 17/20\n",
            "399/399 [==============================] - 1s 2ms/step - loss: 0.0039 - accuracy: 0.9994\n",
            "Epoch 18/20\n",
            "399/399 [==============================] - 1s 2ms/step - loss: 0.0018 - accuracy: 0.9998\n",
            "Epoch 19/20\n",
            "399/399 [==============================] - 1s 2ms/step - loss: 7.3198e-04 - accuracy: 1.0000\n",
            "Epoch 20/20\n",
            "399/399 [==============================] - 1s 2ms/step - loss: 5.1810e-04 - accuracy: 1.0000\n",
            "WARNING:tensorflow:Model was constructed with shape (None, 12750, 1024) for input Tensor(\"dense_6_input:0\", shape=(None, 12750, 1024), dtype=float32), but it was called on an input with incompatible shape (None, 1024).\n",
            "133/133 [==============================] - 0s 948us/step - loss: 0.0802 - accuracy: 0.9824\n",
            "Model: \"sequential_4\"\n",
            "_________________________________________________________________\n",
            "Layer (type)                 Output Shape              Param #   \n",
            "=================================================================\n",
            "dense_8 (Dense)              (None, 12750, 128)        131200    \n",
            "_________________________________________________________________\n",
            "dense_9 (Dense)              (None, 12750, 10)         1290      \n",
            "=================================================================\n",
            "Total params: 132,490\n",
            "Trainable params: 132,490\n",
            "Non-trainable params: 0\n",
            "_________________________________________________________________\n",
            "Epoch 1/20\n",
            "WARNING:tensorflow:Model was constructed with shape (None, 12750, 1024) for input Tensor(\"dense_8_input:0\", shape=(None, 12750, 1024), dtype=float32), but it was called on an input with incompatible shape (None, 1024).\n",
            "WARNING:tensorflow:Model was constructed with shape (None, 12750, 1024) for input Tensor(\"dense_8_input:0\", shape=(None, 12750, 1024), dtype=float32), but it was called on an input with incompatible shape (None, 1024).\n",
            "399/399 [==============================] - 1s 2ms/step - loss: 0.2985 - accuracy: 0.9115\n",
            "Epoch 2/20\n",
            "399/399 [==============================] - 1s 2ms/step - loss: 0.1095 - accuracy: 0.9688\n",
            "Epoch 3/20\n",
            "399/399 [==============================] - 1s 2ms/step - loss: 0.0678 - accuracy: 0.9813\n",
            "Epoch 4/20\n",
            "399/399 [==============================] - 1s 2ms/step - loss: 0.0464 - accuracy: 0.9875\n",
            "Epoch 5/20\n",
            "399/399 [==============================] - 1s 2ms/step - loss: 0.0288 - accuracy: 0.9934\n",
            "Epoch 6/20\n",
            "399/399 [==============================] - 1s 2ms/step - loss: 0.0217 - accuracy: 0.9955\n",
            "Epoch 7/20\n",
            "399/399 [==============================] - 1s 2ms/step - loss: 0.0127 - accuracy: 0.9971\n",
            "Epoch 8/20\n",
            "399/399 [==============================] - 1s 2ms/step - loss: 0.0081 - accuracy: 0.9990\n",
            "Epoch 9/20\n",
            "399/399 [==============================] - 1s 2ms/step - loss: 0.0065 - accuracy: 0.9991\n",
            "Epoch 10/20\n",
            "399/399 [==============================] - 1s 2ms/step - loss: 0.0065 - accuracy: 0.9989\n",
            "Epoch 11/20\n",
            "399/399 [==============================] - 1s 2ms/step - loss: 0.0092 - accuracy: 0.9980\n",
            "Epoch 12/20\n",
            "399/399 [==============================] - 1s 2ms/step - loss: 0.0042 - accuracy: 0.9994\n",
            "Epoch 13/20\n",
            "399/399 [==============================] - 1s 2ms/step - loss: 0.0014 - accuracy: 0.9999\n",
            "Epoch 14/20\n",
            "399/399 [==============================] - 1s 2ms/step - loss: 0.0257 - accuracy: 0.9921\n",
            "Epoch 15/20\n",
            "399/399 [==============================] - 1s 2ms/step - loss: 0.0077 - accuracy: 0.9977\n",
            "Epoch 16/20\n",
            "399/399 [==============================] - 1s 2ms/step - loss: 0.0022 - accuracy: 0.9996\n",
            "Epoch 17/20\n",
            "399/399 [==============================] - 1s 2ms/step - loss: 7.2594e-04 - accuracy: 1.0000\n",
            "Epoch 18/20\n",
            "399/399 [==============================] - 1s 2ms/step - loss: 3.2772e-04 - accuracy: 1.0000\n",
            "Epoch 19/20\n",
            "399/399 [==============================] - 1s 2ms/step - loss: 2.4524e-04 - accuracy: 1.0000\n",
            "Epoch 20/20\n",
            "399/399 [==============================] - 1s 2ms/step - loss: 2.0188e-04 - accuracy: 1.0000\n",
            "WARNING:tensorflow:Model was constructed with shape (None, 12750, 1024) for input Tensor(\"dense_8_input:0\", shape=(None, 12750, 1024), dtype=float32), but it was called on an input with incompatible shape (None, 1024).\n",
            "133/133 [==============================] - 0s 1ms/step - loss: 0.0640 - accuracy: 0.9849\n",
            "Model: \"sequential_5\"\n",
            "_________________________________________________________________\n",
            "Layer (type)                 Output Shape              Param #   \n",
            "=================================================================\n",
            "dense_10 (Dense)             (None, 12750, 256)        262400    \n",
            "_________________________________________________________________\n",
            "dense_11 (Dense)             (None, 12750, 10)         2570      \n",
            "=================================================================\n",
            "Total params: 264,970\n",
            "Trainable params: 264,970\n",
            "Non-trainable params: 0\n",
            "_________________________________________________________________\n",
            "Epoch 1/20\n",
            "WARNING:tensorflow:Model was constructed with shape (None, 12750, 1024) for input Tensor(\"dense_10_input:0\", shape=(None, 12750, 1024), dtype=float32), but it was called on an input with incompatible shape (None, 1024).\n",
            "WARNING:tensorflow:Model was constructed with shape (None, 12750, 1024) for input Tensor(\"dense_10_input:0\", shape=(None, 12750, 1024), dtype=float32), but it was called on an input with incompatible shape (None, 1024).\n",
            "399/399 [==============================] - 1s 3ms/step - loss: 0.2633 - accuracy: 0.9226\n",
            "Epoch 2/20\n",
            "399/399 [==============================] - 1s 3ms/step - loss: 0.0853 - accuracy: 0.9768\n",
            "Epoch 3/20\n",
            "399/399 [==============================] - 1s 3ms/step - loss: 0.0466 - accuracy: 0.9873\n",
            "Epoch 4/20\n",
            "399/399 [==============================] - 1s 3ms/step - loss: 0.0226 - accuracy: 0.9954\n",
            "Epoch 5/20\n",
            "399/399 [==============================] - 1s 3ms/step - loss: 0.0168 - accuracy: 0.9959\n",
            "Epoch 6/20\n",
            "399/399 [==============================] - 1s 3ms/step - loss: 0.0135 - accuracy: 0.9964\n",
            "Epoch 7/20\n",
            "399/399 [==============================] - 1s 3ms/step - loss: 0.0110 - accuracy: 0.9970\n",
            "Epoch 8/20\n",
            "399/399 [==============================] - 1s 3ms/step - loss: 0.0039 - accuracy: 0.9995\n",
            "Epoch 9/20\n",
            "399/399 [==============================] - 1s 3ms/step - loss: 0.0029 - accuracy: 0.9998\n",
            "Epoch 10/20\n",
            "399/399 [==============================] - 1s 3ms/step - loss: 0.0215 - accuracy: 0.9927\n",
            "Epoch 11/20\n",
            "399/399 [==============================] - 1s 3ms/step - loss: 0.0132 - accuracy: 0.9955\n",
            "Epoch 12/20\n",
            "399/399 [==============================] - 1s 3ms/step - loss: 0.0017 - accuracy: 0.9998\n",
            "Epoch 13/20\n",
            "399/399 [==============================] - 1s 3ms/step - loss: 9.6961e-04 - accuracy: 0.9999\n",
            "Epoch 14/20\n",
            "399/399 [==============================] - 1s 3ms/step - loss: 7.6440e-04 - accuracy: 0.9998\n",
            "Epoch 15/20\n",
            "399/399 [==============================] - 1s 3ms/step - loss: 2.2864e-04 - accuracy: 1.0000\n",
            "Epoch 16/20\n",
            "399/399 [==============================] - 1s 3ms/step - loss: 1.6519e-04 - accuracy: 1.0000\n",
            "Epoch 17/20\n",
            "399/399 [==============================] - 1s 3ms/step - loss: 1.3425e-04 - accuracy: 1.0000\n",
            "Epoch 18/20\n",
            "399/399 [==============================] - 1s 3ms/step - loss: 1.1055e-04 - accuracy: 1.0000\n",
            "Epoch 19/20\n",
            "399/399 [==============================] - 1s 3ms/step - loss: 9.3502e-05 - accuracy: 1.0000\n",
            "Epoch 20/20\n",
            "399/399 [==============================] - 1s 3ms/step - loss: 7.8133e-05 - accuracy: 1.0000\n",
            "WARNING:tensorflow:Model was constructed with shape (None, 12750, 1024) for input Tensor(\"dense_10_input:0\", shape=(None, 12750, 1024), dtype=float32), but it was called on an input with incompatible shape (None, 1024).\n",
            "133/133 [==============================] - 0s 1ms/step - loss: 0.0634 - accuracy: 0.9861\n",
            "Model: \"sequential_6\"\n",
            "_________________________________________________________________\n",
            "Layer (type)                 Output Shape              Param #   \n",
            "=================================================================\n",
            "dense_12 (Dense)             (None, 12750, 512)        524800    \n",
            "_________________________________________________________________\n",
            "dense_13 (Dense)             (None, 12750, 10)         5130      \n",
            "=================================================================\n",
            "Total params: 529,930\n",
            "Trainable params: 529,930\n",
            "Non-trainable params: 0\n",
            "_________________________________________________________________\n",
            "Epoch 1/20\n",
            "WARNING:tensorflow:Model was constructed with shape (None, 12750, 1024) for input Tensor(\"dense_12_input:0\", shape=(None, 12750, 1024), dtype=float32), but it was called on an input with incompatible shape (None, 1024).\n",
            "WARNING:tensorflow:Model was constructed with shape (None, 12750, 1024) for input Tensor(\"dense_12_input:0\", shape=(None, 12750, 1024), dtype=float32), but it was called on an input with incompatible shape (None, 1024).\n",
            "399/399 [==============================] - 2s 4ms/step - loss: 0.2450 - accuracy: 0.9242\n",
            "Epoch 2/20\n",
            "399/399 [==============================] - 2s 4ms/step - loss: 0.0734 - accuracy: 0.9794\n",
            "Epoch 3/20\n",
            "399/399 [==============================] - 2s 5ms/step - loss: 0.0376 - accuracy: 0.9893\n",
            "Epoch 4/20\n",
            "399/399 [==============================] - 2s 5ms/step - loss: 0.0245 - accuracy: 0.9931\n",
            "Epoch 5/20\n",
            "399/399 [==============================] - 2s 5ms/step - loss: 0.0117 - accuracy: 0.9969\n",
            "Epoch 6/20\n",
            "399/399 [==============================] - 2s 5ms/step - loss: 0.0088 - accuracy: 0.9974\n",
            "Epoch 7/20\n",
            "399/399 [==============================] - 2s 5ms/step - loss: 0.0051 - accuracy: 0.9991\n",
            "Epoch 8/20\n",
            "399/399 [==============================] - 2s 5ms/step - loss: 0.0033 - accuracy: 0.9993\n",
            "Epoch 9/20\n",
            "399/399 [==============================] - 2s 4ms/step - loss: 0.0285 - accuracy: 0.9912\n",
            "Epoch 10/20\n",
            "399/399 [==============================] - 2s 4ms/step - loss: 0.0150 - accuracy: 0.9954\n",
            "Epoch 11/20\n",
            "399/399 [==============================] - 2s 4ms/step - loss: 0.0056 - accuracy: 0.9984\n",
            "Epoch 12/20\n",
            "399/399 [==============================] - 2s 4ms/step - loss: 0.0104 - accuracy: 0.9966\n",
            "Epoch 13/20\n",
            "399/399 [==============================] - 2s 4ms/step - loss: 0.0027 - accuracy: 0.9991\n",
            "Epoch 14/20\n",
            "399/399 [==============================] - 2s 5ms/step - loss: 2.1617e-04 - accuracy: 1.0000\n",
            "Epoch 15/20\n",
            "399/399 [==============================] - 2s 5ms/step - loss: 1.1034e-04 - accuracy: 1.0000\n",
            "Epoch 16/20\n",
            "399/399 [==============================] - 2s 4ms/step - loss: 8.1217e-05 - accuracy: 1.0000\n",
            "Epoch 17/20\n",
            "399/399 [==============================] - 2s 5ms/step - loss: 6.5695e-05 - accuracy: 1.0000\n",
            "Epoch 18/20\n",
            "399/399 [==============================] - 2s 5ms/step - loss: 5.4387e-05 - accuracy: 1.0000\n",
            "Epoch 19/20\n",
            "399/399 [==============================] - 2s 6ms/step - loss: 4.5393e-05 - accuracy: 1.0000\n",
            "Epoch 20/20\n",
            "399/399 [==============================] - 2s 5ms/step - loss: 3.8400e-05 - accuracy: 1.0000\n",
            "WARNING:tensorflow:Model was constructed with shape (None, 12750, 1024) for input Tensor(\"dense_12_input:0\", shape=(None, 12750, 1024), dtype=float32), but it was called on an input with incompatible shape (None, 1024).\n",
            "133/133 [==============================] - 0s 2ms/step - loss: 0.0535 - accuracy: 0.9882\n",
            "Model: \"sequential_7\"\n",
            "_________________________________________________________________\n",
            "Layer (type)                 Output Shape              Param #   \n",
            "=================================================================\n",
            "dense_14 (Dense)             (None, 12750, 1024)       1049600   \n",
            "_________________________________________________________________\n",
            "dense_15 (Dense)             (None, 12750, 10)         10250     \n",
            "=================================================================\n",
            "Total params: 1,059,850\n",
            "Trainable params: 1,059,850\n",
            "Non-trainable params: 0\n",
            "_________________________________________________________________\n",
            "Epoch 1/20\n",
            "WARNING:tensorflow:Model was constructed with shape (None, 12750, 1024) for input Tensor(\"dense_14_input:0\", shape=(None, 12750, 1024), dtype=float32), but it was called on an input with incompatible shape (None, 1024).\n",
            "WARNING:tensorflow:Model was constructed with shape (None, 12750, 1024) for input Tensor(\"dense_14_input:0\", shape=(None, 12750, 1024), dtype=float32), but it was called on an input with incompatible shape (None, 1024).\n",
            "399/399 [==============================] - 3s 8ms/step - loss: 0.2332 - accuracy: 0.9269\n",
            "Epoch 2/20\n",
            "399/399 [==============================] - 4s 10ms/step - loss: 0.0618 - accuracy: 0.9827\n",
            "Epoch 3/20\n",
            "399/399 [==============================] - 4s 10ms/step - loss: 0.0318 - accuracy: 0.9910\n",
            "Epoch 4/20\n",
            "399/399 [==============================] - 3s 8ms/step - loss: 0.0218 - accuracy: 0.9936\n",
            "Epoch 5/20\n",
            "399/399 [==============================] - 4s 9ms/step - loss: 0.0174 - accuracy: 0.9944\n",
            "Epoch 6/20\n",
            "399/399 [==============================] - 3s 9ms/step - loss: 0.0184 - accuracy: 0.9936\n",
            "Epoch 7/20\n",
            "399/399 [==============================] - 3s 9ms/step - loss: 0.0069 - accuracy: 0.9986\n",
            "Epoch 8/20\n",
            "399/399 [==============================] - 4s 9ms/step - loss: 0.0016 - accuracy: 0.9998\n",
            "Epoch 9/20\n",
            "399/399 [==============================] - 4s 9ms/step - loss: 4.0866e-04 - accuracy: 1.0000\n",
            "Epoch 10/20\n",
            "399/399 [==============================] - 3s 8ms/step - loss: 0.0386 - accuracy: 0.9899\n",
            "Epoch 11/20\n",
            "399/399 [==============================] - 3s 8ms/step - loss: 0.0300 - accuracy: 0.9903\n",
            "Epoch 12/20\n",
            "399/399 [==============================] - 3s 9ms/step - loss: 0.0031 - accuracy: 0.9990\n",
            "Epoch 13/20\n",
            "399/399 [==============================] - 3s 8ms/step - loss: 0.0036 - accuracy: 0.9992\n",
            "Epoch 14/20\n",
            "399/399 [==============================] - 3s 9ms/step - loss: 3.0929e-04 - accuracy: 1.0000\n",
            "Epoch 15/20\n",
            "399/399 [==============================] - 3s 9ms/step - loss: 1.4198e-04 - accuracy: 1.0000\n",
            "Epoch 16/20\n",
            "399/399 [==============================] - 3s 8ms/step - loss: 8.6874e-05 - accuracy: 1.0000\n",
            "Epoch 17/20\n",
            "399/399 [==============================] - 3s 8ms/step - loss: 6.6504e-05 - accuracy: 1.0000\n",
            "Epoch 18/20\n",
            "399/399 [==============================] - 4s 9ms/step - loss: 5.3632e-05 - accuracy: 1.0000\n",
            "Epoch 19/20\n",
            "399/399 [==============================] - 3s 8ms/step - loss: 4.3841e-05 - accuracy: 1.0000\n",
            "Epoch 20/20\n",
            "399/399 [==============================] - 3s 8ms/step - loss: 3.6705e-05 - accuracy: 1.0000\n",
            "WARNING:tensorflow:Model was constructed with shape (None, 12750, 1024) for input Tensor(\"dense_14_input:0\", shape=(None, 12750, 1024), dtype=float32), but it was called on an input with incompatible shape (None, 1024).\n",
            "133/133 [==============================] - 0s 3ms/step - loss: 0.0526 - accuracy: 0.9892\n"
          ],
          "name": "stdout"
        }
      ]
    },
    {
      "cell_type": "code",
      "metadata": {
        "id": "GX58-FUAmvd6",
        "colab_type": "code",
        "colab": {
          "base_uri": "https://localhost:8080/",
          "height": 281
        },
        "outputId": "76ccf4f7-f2f6-407c-a76d-c3f7151dc8e4"
      },
      "source": [
        "x=range(len(his[0].history['accuracy']))\n",
        "x=np.array(x)\n",
        "plt.title('Accuracy')\n",
        "for i in range(len(his)):\n",
        "    plt.plot(x,np.array(his[i].history['accuracy']).T,label = 'nodes %s'%pow(2,i+3))\n",
        "plt.legend()\n",
        "plt.show()"
      ],
      "execution_count": 18,
      "outputs": [
        {
          "output_type": "display_data",
          "data": {
            "image/png": "[encoded data removed]",
            "text/plain": [
              "<Figure size 432x288 with 1 Axes>"
            ]
          },
          "metadata": {
            "tags": [],
            "needs_background": "light"
          }
        }
      ]
    },
    {
      "cell_type": "code",
      "metadata": {
        "id": "I8xvFWotpedd",
        "colab_type": "code",
        "colab": {
          "base_uri": "https://localhost:8080/",
          "height": 1000
        },
        "outputId": "6f212d6e-4a5d-4a8a-fb3d-9ed0643a9e5a"
      },
      "source": [
        "model1=Sequential()\n",
        "input_dim = X_train.shape[1]\n",
        "his1=[]\n",
        "model1.add(layers.Dense(32, input_dim=input_dim, activation='relu'))\n",
        "x=2\n",
        "while x<6:\n",
        "    model1.add(layers.Dense(32, input_dim=input_dim, activation='relu'))\n",
        "    model1.add(Dense(10,activation='softmax'))\n",
        "    model1.compile(loss='binary_crossentropy', optimizer='adam', metrics=['accuracy'])\n",
        "    his1.append(model1.fit(X_train,y_train,epochs=20))\n",
        "    if x!=5:\n",
        "        model1.pop()\n",
        "    x+=1"
      ],
      "execution_count": 19,
      "outputs": [
        {
          "output_type": "stream",
          "text": [
            "Epoch 1/20\n",
            "399/399 [==============================] - 1s 1ms/step - loss: 0.0769 - accuracy: 0.8606\n",
            "Epoch 2/20\n",
            "399/399 [==============================] - 1s 1ms/step - loss: 0.0264 - accuracy: 0.9569\n",
            "Epoch 3/20\n",
            "399/399 [==============================] - 1s 2ms/step - loss: 0.0197 - accuracy: 0.9678\n",
            "Epoch 4/20\n",
            "399/399 [==============================] - 1s 1ms/step - loss: 0.0153 - accuracy: 0.9755\n",
            "Epoch 5/20\n",
            "399/399 [==============================] - 1s 1ms/step - loss: 0.0119 - accuracy: 0.9818\n",
            "Epoch 6/20\n",
            "399/399 [==============================] - 1s 1ms/step - loss: 0.0100 - accuracy: 0.9852\n",
            "Epoch 7/20\n",
            "399/399 [==============================] - 1s 1ms/step - loss: 0.0085 - accuracy: 0.9869\n",
            "Epoch 8/20\n",
            "399/399 [==============================] - 1s 1ms/step - loss: 0.0068 - accuracy: 0.9905\n",
            "Epoch 9/20\n",
            "399/399 [==============================] - 1s 2ms/step - loss: 0.0061 - accuracy: 0.9914\n",
            "Epoch 10/20\n",
            "399/399 [==============================] - 1s 2ms/step - loss: 0.0055 - accuracy: 0.9926\n",
            "Epoch 11/20\n",
            "399/399 [==============================] - 1s 2ms/step - loss: 0.0045 - accuracy: 0.9944\n",
            "Epoch 12/20\n",
            "399/399 [==============================] - 1s 2ms/step - loss: 0.0034 - accuracy: 0.9954\n",
            "Epoch 13/20\n",
            "399/399 [==============================] - 1s 2ms/step - loss: 0.0034 - accuracy: 0.9951\n",
            "Epoch 14/20\n",
            "399/399 [==============================] - 1s 1ms/step - loss: 0.0035 - accuracy: 0.9954\n",
            "Epoch 15/20\n",
            "399/399 [==============================] - 1s 2ms/step - loss: 0.0029 - accuracy: 0.9955\n",
            "Epoch 16/20\n",
            "399/399 [==============================] - 1s 2ms/step - loss: 0.0047 - accuracy: 0.9925\n",
            "Epoch 17/20\n",
            "399/399 [==============================] - 1s 2ms/step - loss: 0.0026 - accuracy: 0.9962\n",
            "Epoch 18/20\n",
            "399/399 [==============================] - 1s 2ms/step - loss: 0.0016 - accuracy: 0.9979\n",
            "Epoch 19/20\n",
            "399/399 [==============================] - 1s 1ms/step - loss: 0.0013 - accuracy: 0.9984\n",
            "Epoch 20/20\n",
            "399/399 [==============================] - 1s 2ms/step - loss: 0.0016 - accuracy: 0.9971\n",
            "Epoch 1/20\n",
            "399/399 [==============================] - 1s 2ms/step - loss: 0.0681 - accuracy: 0.8832\n",
            "Epoch 2/20\n",
            "399/399 [==============================] - 1s 2ms/step - loss: 0.0092 - accuracy: 0.9864\n",
            "Epoch 3/20\n",
            "399/399 [==============================] - 1s 2ms/step - loss: 0.0056 - accuracy: 0.9926\n",
            "Epoch 4/20\n",
            "399/399 [==============================] - 1s 2ms/step - loss: 0.0034 - accuracy: 0.9958\n",
            "Epoch 5/20\n",
            "399/399 [==============================] - 1s 2ms/step - loss: 0.0029 - accuracy: 0.9966\n",
            "Epoch 6/20\n",
            "399/399 [==============================] - 1s 2ms/step - loss: 0.0023 - accuracy: 0.9968\n",
            "Epoch 7/20\n",
            "399/399 [==============================] - 1s 2ms/step - loss: 0.0027 - accuracy: 0.9962\n",
            "Epoch 8/20\n",
            "399/399 [==============================] - 1s 2ms/step - loss: 0.0034 - accuracy: 0.9951\n",
            "Epoch 9/20\n",
            "399/399 [==============================] - 1s 2ms/step - loss: 0.0023 - accuracy: 0.9964\n",
            "Epoch 10/20\n",
            "399/399 [==============================] - 1s 2ms/step - loss: 0.0017 - accuracy: 0.9971\n",
            "Epoch 11/20\n",
            "399/399 [==============================] - 1s 2ms/step - loss: 6.0421e-04 - accuracy: 0.9992\n",
            "Epoch 12/20\n",
            "399/399 [==============================] - 1s 2ms/step - loss: 2.2047e-04 - accuracy: 0.9999\n",
            "Epoch 13/20\n",
            "399/399 [==============================] - 1s 2ms/step - loss: 1.2262e-04 - accuracy: 0.9999\n",
            "Epoch 14/20\n",
            "399/399 [==============================] - 1s 2ms/step - loss: 7.5855e-05 - accuracy: 1.0000\n",
            "Epoch 15/20\n",
            "399/399 [==============================] - 1s 2ms/step - loss: 6.2548e-05 - accuracy: 1.0000\n",
            "Epoch 16/20\n",
            "399/399 [==============================] - 1s 2ms/step - loss: 6.8139e-05 - accuracy: 1.0000\n",
            "Epoch 17/20\n",
            "399/399 [==============================] - 1s 2ms/step - loss: 6.0549e-05 - accuracy: 1.0000\n",
            "Epoch 18/20\n",
            "399/399 [==============================] - 1s 2ms/step - loss: 3.2112e-05 - accuracy: 1.0000\n",
            "Epoch 19/20\n",
            "399/399 [==============================] - 1s 2ms/step - loss: 2.1760e-05 - accuracy: 1.0000\n",
            "Epoch 20/20\n",
            "399/399 [==============================] - 1s 2ms/step - loss: 1.7493e-05 - accuracy: 1.0000\n",
            "Epoch 1/20\n",
            "399/399 [==============================] - 1s 2ms/step - loss: 0.1307 - accuracy: 0.8459\n",
            "Epoch 2/20\n",
            "399/399 [==============================] - 1s 2ms/step - loss: 0.0065 - accuracy: 0.9914\n",
            "Epoch 3/20\n",
            "399/399 [==============================] - 1s 2ms/step - loss: 0.0027 - accuracy: 0.9972\n",
            "Epoch 4/20\n",
            "399/399 [==============================] - 1s 2ms/step - loss: 0.0035 - accuracy: 0.9945\n",
            "Epoch 5/20\n",
            "399/399 [==============================] - 1s 2ms/step - loss: 0.0014 - accuracy: 0.9981\n",
            "Epoch 6/20\n",
            "399/399 [==============================] - 1s 2ms/step - loss: 3.4074e-04 - accuracy: 0.9998\n",
            "Epoch 7/20\n",
            "399/399 [==============================] - 1s 2ms/step - loss: 1.6879e-04 - accuracy: 0.9999\n",
            "Epoch 8/20\n",
            "399/399 [==============================] - 1s 2ms/step - loss: 1.0498e-04 - accuracy: 1.0000\n",
            "Epoch 9/20\n",
            "399/399 [==============================] - 1s 2ms/step - loss: 6.5010e-05 - accuracy: 1.0000\n",
            "Epoch 10/20\n",
            "399/399 [==============================] - 1s 2ms/step - loss: 4.7066e-05 - accuracy: 1.0000\n",
            "Epoch 11/20\n",
            "399/399 [==============================] - 1s 2ms/step - loss: 3.2245e-05 - accuracy: 1.0000\n",
            "Epoch 12/20\n",
            "399/399 [==============================] - 1s 2ms/step - loss: 2.4153e-05 - accuracy: 1.0000\n",
            "Epoch 13/20\n",
            "399/399 [==============================] - 1s 2ms/step - loss: 1.8448e-05 - accuracy: 1.0000\n",
            "Epoch 14/20\n",
            "399/399 [==============================] - 1s 2ms/step - loss: 1.4600e-05 - accuracy: 1.0000\n",
            "Epoch 15/20\n",
            "399/399 [==============================] - 1s 2ms/step - loss: 1.1051e-05 - accuracy: 1.0000\n",
            "Epoch 16/20\n",
            "399/399 [==============================] - 1s 2ms/step - loss: 9.0917e-06 - accuracy: 1.0000\n",
            "Epoch 17/20\n",
            "399/399 [==============================] - 1s 2ms/step - loss: 6.8820e-06 - accuracy: 1.0000\n",
            "Epoch 18/20\n",
            "399/399 [==============================] - 1s 2ms/step - loss: 5.3718e-06 - accuracy: 1.0000\n",
            "Epoch 19/20\n",
            "399/399 [==============================] - 1s 2ms/step - loss: 4.4069e-06 - accuracy: 1.0000\n",
            "Epoch 20/20\n",
            "399/399 [==============================] - 1s 2ms/step - loss: 3.9729e-06 - accuracy: 1.0000\n",
            "Epoch 1/20\n",
            "399/399 [==============================] - 1s 2ms/step - loss: 0.0566 - accuracy: 0.9299\n",
            "Epoch 2/20\n",
            "399/399 [==============================] - 1s 2ms/step - loss: 0.0020 - accuracy: 0.9972\n",
            "Epoch 3/20\n",
            "399/399 [==============================] - 1s 2ms/step - loss: 0.0021 - accuracy: 0.9972\n",
            "Epoch 4/20\n",
            "399/399 [==============================] - 1s 2ms/step - loss: 9.4701e-04 - accuracy: 0.9983\n",
            "Epoch 5/20\n",
            "399/399 [==============================] - 1s 2ms/step - loss: 0.0040 - accuracy: 0.9938\n",
            "Epoch 6/20\n",
            "399/399 [==============================] - 1s 2ms/step - loss: 5.6305e-04 - accuracy: 0.9992\n",
            "Epoch 7/20\n",
            "399/399 [==============================] - 1s 2ms/step - loss: 4.8378e-04 - accuracy: 0.9993\n",
            "Epoch 8/20\n",
            "399/399 [==============================] - 1s 2ms/step - loss: 0.0035 - accuracy: 0.9956\n",
            "Epoch 9/20\n",
            "399/399 [==============================] - 1s 2ms/step - loss: 0.0030 - accuracy: 0.9956\n",
            "Epoch 10/20\n",
            "399/399 [==============================] - 1s 2ms/step - loss: 0.0012 - accuracy: 0.9981\n",
            "Epoch 11/20\n",
            "399/399 [==============================] - 1s 2ms/step - loss: 6.3800e-04 - accuracy: 0.9993\n",
            "Epoch 12/20\n",
            "399/399 [==============================] - 1s 2ms/step - loss: 0.0054 - accuracy: 0.9922\n",
            "Epoch 13/20\n",
            "399/399 [==============================] - 1s 2ms/step - loss: 9.3991e-04 - accuracy: 0.9987\n",
            "Epoch 14/20\n",
            "399/399 [==============================] - 1s 2ms/step - loss: 0.0017 - accuracy: 0.9976\n",
            "Epoch 15/20\n",
            "399/399 [==============================] - 1s 2ms/step - loss: 2.2838e-04 - accuracy: 0.9998\n",
            "Epoch 16/20\n",
            "399/399 [==============================] - 1s 2ms/step - loss: 3.2196e-05 - accuracy: 1.0000\n",
            "Epoch 17/20\n",
            "399/399 [==============================] - 1s 2ms/step - loss: 1.8626e-05 - accuracy: 1.0000\n",
            "Epoch 18/20\n",
            "399/399 [==============================] - 1s 2ms/step - loss: 1.3368e-05 - accuracy: 1.0000\n",
            "Epoch 19/20\n",
            "399/399 [==============================] - 1s 2ms/step - loss: 1.0006e-05 - accuracy: 1.0000\n",
            "Epoch 20/20\n",
            "399/399 [==============================] - 1s 2ms/step - loss: 7.6256e-06 - accuracy: 1.0000\n"
          ],
          "name": "stdout"
        }
      ]
    },
    {
      "cell_type": "code",
      "metadata": {
        "id": "lDKidHoOqs31",
        "colab_type": "code",
        "colab": {
          "base_uri": "https://localhost:8080/",
          "height": 281
        },
        "outputId": "ba308c3e-967a-40c8-b7c5-b3ebbae46f59"
      },
      "source": [
        "x=range(len(his1[3].history['accuracy']))\n",
        "x=np.array(x)\n",
        "plt.title('Accuracy')\n",
        "for i in range(len(his1)):\n",
        "    plt.plot(x,np.array(his1[i].history['accuracy']).T,label = 'layers %s'%(i+2))\n",
        "plt.legend()\n",
        "plt.show()"
      ],
      "execution_count": 20,
      "outputs": [
        {
          "output_type": "display_data",
          "data": {
            "image/png": "[encoded data removed]",
            "text/plain": [
              "<Figure size 432x288 with 1 Axes>"
            ]
          },
          "metadata": {
            "tags": [],
            "needs_background": "light"
          }
        }
      ]
    },
    {
      "cell_type": "code",
      "metadata": {
        "id": "23UNdiczrYt8",
        "colab_type": "code",
        "colab": {
          "base_uri": "https://localhost:8080/",
          "height": 376
        },
        "outputId": "ec0173c9-8ae8-42d5-f3dd-1b2be249e532"
      },
      "source": [
        "i=np.random.randint(0,4250,20)\n",
        "print(i)\n",
        "m,m1=[],[]\n",
        "for j in i:\n",
        "    m.append(np.argmax(model.predict(X_test[j].reshape(1,1024))))\n",
        "    m1.append(np.argmax(model1.predict(X_test[j].reshape(1,1024))))\n",
        "print(m)\n",
        "print(m1)\n",
        "for j in range(20):\n",
        "    pyplot.subplot(5,4, 1 + j)\n",
        "    pyplot.imshow(X_test[i[j]].reshape(32,32), pyplot.get_cmap('gray'))\n",
        "pyplot.show()"
      ],
      "execution_count": 21,
      "outputs": [
        {
          "output_type": "stream",
          "text": [
            "[1344 2966 1318 3136  114  233 3236 4066 3212  271 2234 2067 3970  326\n",
            " 1239 2118 3017 3266 1209 1482]\n",
            "WARNING:tensorflow:Model was constructed with shape (None, 12750, 1024) for input Tensor(\"dense_14_input:0\", shape=(None, 12750, 1024), dtype=float32), but it was called on an input with incompatible shape (None, 1024).\n",
            "[9, 9, 2, 1, 3, 3, 3, 6, 6, 5, 5, 0, 9, 8, 3, 3, 9, 6, 0, 4]\n",
            "[9, 9, 2, 1, 3, 3, 3, 6, 6, 4, 5, 0, 9, 8, 3, 3, 9, 6, 0, 4]\n"
          ],
          "name": "stdout"
        },
        {
          "output_type": "display_data",
          "data": {
            "image/png": "[encoded data removed]",
            "text/plain": [
              "<Figure size 432x288 with 20 Axes>"
            ]
          },
          "metadata": {
            "tags": [],
            "needs_background": "light"
          }
        }
      ]
    },
    {
      "cell_type": "code",
      "metadata": {
        "id": "2Fnrx6182mQ3",
        "colab_type": "code",
        "colab": {}
      },
      "source": [
        ""
      ],
      "execution_count": 21,
      "outputs": []
    }
  ]
}