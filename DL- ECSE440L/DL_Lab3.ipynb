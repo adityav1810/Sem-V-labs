{
  "nbformat": 4,
  "nbformat_minor": 0,
  "metadata": {
    "colab": {
      "name": "DL_Lab3.ipynb",
      "provenance": [],
      "authorship_tag": "ABX9TyO3biVIFg9NzPPU14A8YXLp",
      "include_colab_link": true
    },
    "kernelspec": {
      "name": "python3",
      "display_name": "Python 3"
    }
  },
  "cells": [
    {
      "cell_type": "markdown",
      "metadata": {
        "id": "view-in-github",
        "colab_type": "text"
      },
      "source": [
        "<a href=\"https://colab.research.google.com/github/tushar2k/Sem-V-labs/blob/master/DL-%20ECSE440L/DL_Lab3.ipynb\" target=\"_parent\"><img src=\"https://colab.research.google.com/assets/colab-badge.svg\" alt=\"Open In Colab\"/></a>"
      ]
    },
    {
      "cell_type": "code",
      "metadata": {
        "id": "jylM13S0XlfC",
        "colab_type": "code",
        "colab": {
          "base_uri": "https://localhost:8080/",
          "height": 124
        },
        "outputId": "afd49eb5-5df8-4a69-e488-bd14cac74f79"
      },
      "source": [
        "from google.colab import drive\n",
        "drive.mount('/content/gdrive')"
      ],
      "execution_count": null,
      "outputs": [
        {
          "output_type": "stream",
          "text": [
            "Go to this URL in a browser: https://accounts.google.com/o/oauth2/auth?client_id=947318989803-6bn6qk8qdgf4n4g3pfee6491hc0brc4i.apps.googleusercontent.com&redirect_uri=urn%3aietf%3awg%3aoauth%3a2.0%3aoob&scope=email%20https%3a%2f%2fwww.googleapis.com%2fauth%2fdocs.test%20https%3a%2f%2fwww.googleapis.com%2fauth%2fdrive%20https%3a%2f%2fwww.googleapis.com%2fauth%2fdrive.photos.readonly%20https%3a%2f%2fwww.googleapis.com%2fauth%2fpeopleapi.readonly&response_type=code\n",
            "\n",
            "Enter your authorization code:\n",
            "··········\n",
            "Mounted at /content/gdrive\n"
          ],
          "name": "stdout"
        }
      ]
    },
    {
      "cell_type": "code",
      "metadata": {
        "id": "DT8wX4LRXypN",
        "colab_type": "code",
        "colab": {
          "base_uri": "https://localhost:8080/",
          "height": 35
        },
        "outputId": "bd4380e9-c090-4f80-f0aa-8ff165f32a38"
      },
      "source": [
        "cd '/content/gdrive/My Drive/Colab Notebooks/DL Lab/Lab3'"
      ],
      "execution_count": null,
      "outputs": [
        {
          "output_type": "stream",
          "text": [
            "/content/gdrive/My Drive/Colab Notebooks/DL Lab/Lab3\n"
          ],
          "name": "stdout"
        }
      ]
    },
    {
      "cell_type": "code",
      "metadata": {
        "id": "6dvvtq0fX6vP",
        "colab_type": "code",
        "colab": {}
      },
      "source": [
        "import numpy as np\n",
        "import cv2"
      ],
      "execution_count": null,
      "outputs": []
    },
    {
      "cell_type": "code",
      "metadata": {
        "id": "PI-MiGxCbnrS",
        "colab_type": "code",
        "colab": {}
      },
      "source": [
        "paths=['datasets_23777_30378_training_set_training_set_cats_cat.1007.jpg'\n",
        ",'datasets_23777_30378_training_set_training_set_cats_cat.1009.jpg'\n",
        ",'datasets_23777_30378_training_set_training_set_cats_cat.1010.jpg'\n",
        ",'datasets_23777_30378_training_set_training_set_cats_cat.1012.jpg'\n",
        ",'datasets_23777_30378_training_set_training_set_cats_cat.1014.jpg'\n",
        ",'datasets_23777_30378_training_set_training_set_cats_cat.1019.jpg'\n",
        ",'datasets_23777_30378_training_set_training_set_cats_cat.1021.jpg'\n",
        ",'datasets_23777_30378_training_set_training_set_cats_cat.1027.jpg'\n",
        ",'datasets_23777_30378_training_set_training_set_cats_cat.1034.jpg'\n",
        ",'datasets_23777_30378_training_set_training_set_cats_cat.1038.jpg'\n",
        ",'datasets_23777_30378_training_set_training_set_dogs_dog.1003.jpg'\n",
        ",'datasets_23777_30378_training_set_training_set_dogs_dog.1006.jpg'\n",
        ",'datasets_23777_30378_training_set_training_set_dogs_dog.1011.jpg'\n",
        ",'datasets_23777_30378_training_set_training_set_dogs_dog.1015.jpg'\n",
        ",'datasets_23777_30378_training_set_training_set_dogs_dog.1016.jpg'\n",
        ",'datasets_23777_30378_training_set_training_set_dogs_dog.1021.jpg'\n",
        ",'datasets_23777_30378_training_set_training_set_dogs_dog.1023.jpg'\n",
        ",'datasets_23777_30378_training_set_training_set_dogs_dog.1025.jpg'\n",
        ",'datasets_23777_30378_training_set_training_set_dogs_dog.1027.jpg'\n",
        ",'datasets_23777_30378_training_set_training_set_dogs_dog.1.jpg']"
      ],
      "execution_count": null,
      "outputs": []
    },
    {
      "cell_type": "code",
      "metadata": {
        "id": "j-VAycohZS3F",
        "colab_type": "code",
        "colab": {}
      },
      "source": [
        "img=[]\n",
        "for i in paths:\n",
        "    a= cv2.imread(i)\n",
        "    a=cv2.resize(a,(500,500))\n",
        "    a=np.array(a).flatten()\n",
        "    img.append(a)"
      ],
      "execution_count": null,
      "outputs": []
    },
    {
      "cell_type": "code",
      "metadata": {
        "id": "ZzPu2OUwc1VN",
        "colab_type": "code",
        "colab": {
          "base_uri": "https://localhost:8080/",
          "height": 364
        },
        "outputId": "e91292fe-9536-461b-a267-eea2847e8c0b"
      },
      "source": [
        "img"
      ],
      "execution_count": null,
      "outputs": [
        {
          "output_type": "execute_result",
          "data": {
            "text/plain": [
              "[array([197, 226, 240, ..., 226, 226, 226], dtype=uint8),\n",
              " array([32, 63, 94, ..., 93, 34, 14], dtype=uint8),\n",
              " array([132, 129, 138, ..., 168, 157, 165], dtype=uint8),\n",
              " array([255, 255, 242, ..., 141, 137, 149], dtype=uint8),\n",
              " array([ 57,  52,  51, ..., 108, 103, 102], dtype=uint8),\n",
              " array([170, 166, 178, ...,  87, 118, 173], dtype=uint8),\n",
              " array([255, 253, 252, ..., 141, 162, 159], dtype=uint8),\n",
              " array([255, 255, 240, ...,   2,   3,  31], dtype=uint8),\n",
              " array([219, 211, 198, ...,  78, 111, 114], dtype=uint8),\n",
              " array([154, 220, 215, ..., 143, 175, 181], dtype=uint8),\n",
              " array([150, 145, 142, ..., 124, 126, 127], dtype=uint8),\n",
              " array([10, 22, 34, ...,  0,  0, 46], dtype=uint8),\n",
              " array([ 36,  42,  49, ...,  98, 104, 139], dtype=uint8),\n",
              " array([206, 255, 255, ...,  66, 105,  79], dtype=uint8),\n",
              " array([108, 132, 130, ...,  82, 124, 143], dtype=uint8),\n",
              " array([124, 100, 158, ..., 222, 190, 191], dtype=uint8),\n",
              " array([ 97,  79,  56, ..., 135, 134, 138], dtype=uint8),\n",
              " array([218, 234, 217, ..., 115, 136, 133], dtype=uint8),\n",
              " array([167, 173, 192, ...,  44,  51,  44], dtype=uint8),\n",
              " array([211, 224, 238, ..., 236, 250, 249], dtype=uint8)]"
            ]
          },
          "metadata": {
            "tags": []
          },
          "execution_count": 31
        }
      ]
    },
    {
      "cell_type": "code",
      "metadata": {
        "id": "dnSPIMryZvny",
        "colab_type": "code",
        "colab": {}
      },
      "source": [
        "X=np.array(img)"
      ],
      "execution_count": null,
      "outputs": []
    },
    {
      "cell_type": "code",
      "metadata": {
        "id": "17_ptN6KaLCu",
        "colab_type": "code",
        "colab": {
          "base_uri": "https://localhost:8080/",
          "height": 139
        },
        "outputId": "2af4c9dc-2f1b-45a0-f0e0-b6f5175f949d"
      },
      "source": [
        "X"
      ],
      "execution_count": null,
      "outputs": [
        {
          "output_type": "execute_result",
          "data": {
            "text/plain": [
              "array([[197, 226, 240, ..., 226, 226, 226],\n",
              "       [ 32,  63,  94, ...,  93,  34,  14],\n",
              "       [132, 129, 138, ..., 168, 157, 165],\n",
              "       ...,\n",
              "       [218, 234, 217, ..., 115, 136, 133],\n",
              "       [167, 173, 192, ...,  44,  51,  44],\n",
              "       [211, 224, 238, ..., 236, 250, 249]], dtype=uint8)"
            ]
          },
          "metadata": {
            "tags": []
          },
          "execution_count": 33
        }
      ]
    },
    {
      "cell_type": "code",
      "metadata": {
        "id": "FR5qYjv6avAl",
        "colab_type": "code",
        "colab": {}
      },
      "source": [
        "y=np.array([1,1,1,1,1,1,1,1,1,1,0,0,0,0,0,0,0,0,0,0])"
      ],
      "execution_count": null,
      "outputs": []
    },
    {
      "cell_type": "code",
      "metadata": {
        "id": "9V2TChK8fH9v",
        "colab_type": "code",
        "colab": {}
      },
      "source": [
        "y=y.reshape(20,1)"
      ],
      "execution_count": null,
      "outputs": []
    },
    {
      "cell_type": "code",
      "metadata": {
        "id": "G05fUaUyfJ4D",
        "colab_type": "code",
        "colab": {
          "base_uri": "https://localhost:8080/",
          "height": 419
        },
        "outputId": "2be7989e-18c9-48a7-be4b-7e5cfbeb42b1"
      },
      "source": [
        "import sklearn.model_selection as model_selection\n",
        "x_train, x_test, y_train, y_test = model_selection.train_test_split(img, y,train_size=0.75,test_size=0.25)\n",
        "print (\"x_train: \", x_train)\n",
        "print (\"y_train: \", y_train)\n",
        "print (\"x_test: \", x_test)\n",
        "print (\"y_test: \", y_test)"
      ],
      "execution_count": null,
      "outputs": [
        {
          "output_type": "stream",
          "text": [
            "x_train:  [array([255, 253, 252, ..., 141, 162, 159], dtype=uint8), array([32, 63, 94, ..., 93, 34, 14], dtype=uint8), array([ 36,  42,  49, ...,  98, 104, 139], dtype=uint8), array([150, 145, 142, ..., 124, 126, 127], dtype=uint8), array([108, 132, 130, ...,  82, 124, 143], dtype=uint8), array([167, 173, 192, ...,  44,  51,  44], dtype=uint8), array([ 97,  79,  56, ..., 135, 134, 138], dtype=uint8), array([170, 166, 178, ...,  87, 118, 173], dtype=uint8), array([255, 255, 242, ..., 141, 137, 149], dtype=uint8), array([211, 224, 238, ..., 236, 250, 249], dtype=uint8), array([10, 22, 34, ...,  0,  0, 46], dtype=uint8), array([154, 220, 215, ..., 143, 175, 181], dtype=uint8), array([255, 255, 240, ...,   2,   3,  31], dtype=uint8), array([ 57,  52,  51, ..., 108, 103, 102], dtype=uint8), array([206, 255, 255, ...,  66, 105,  79], dtype=uint8)]\n",
            "y_train:  [[1]\n",
            " [1]\n",
            " [0]\n",
            " [0]\n",
            " [0]\n",
            " [0]\n",
            " [0]\n",
            " [1]\n",
            " [1]\n",
            " [0]\n",
            " [0]\n",
            " [1]\n",
            " [1]\n",
            " [1]\n",
            " [0]]\n",
            "x_test:  [array([218, 234, 217, ..., 115, 136, 133], dtype=uint8), array([132, 129, 138, ..., 168, 157, 165], dtype=uint8), array([219, 211, 198, ...,  78, 111, 114], dtype=uint8), array([197, 226, 240, ..., 226, 226, 226], dtype=uint8), array([124, 100, 158, ..., 222, 190, 191], dtype=uint8)]\n",
            "y_test:  [[0]\n",
            " [1]\n",
            " [1]\n",
            " [1]\n",
            " [0]]\n"
          ],
          "name": "stdout"
        }
      ]
    },
    {
      "cell_type": "code",
      "metadata": {
        "id": "JTRuF5AsfRwo",
        "colab_type": "code",
        "colab": {}
      },
      "source": [
        "from sklearn.linear_model import LogisticRegression"
      ],
      "execution_count": null,
      "outputs": []
    },
    {
      "cell_type": "code",
      "metadata": {
        "id": "O3tKo6jUfX2y",
        "colab_type": "code",
        "colab": {}
      },
      "source": [
        "model= LogisticRegression()"
      ],
      "execution_count": null,
      "outputs": []
    },
    {
      "cell_type": "code",
      "metadata": {
        "id": "FTG4BmWCfZ4Q",
        "colab_type": "code",
        "colab": {
          "base_uri": "https://localhost:8080/",
          "height": 159
        },
        "outputId": "5a3aa2d8-5c67-45d9-f9c3-ae66a47eb1ae"
      },
      "source": [
        "model.fit(x_train,y_train)"
      ],
      "execution_count": null,
      "outputs": [
        {
          "output_type": "stream",
          "text": [
            "/usr/local/lib/python3.6/dist-packages/sklearn/utils/validation.py:760: DataConversionWarning: A column-vector y was passed when a 1d array was expected. Please change the shape of y to (n_samples, ), for example using ravel().\n",
            "  y = column_or_1d(y, warn=True)\n"
          ],
          "name": "stderr"
        },
        {
          "output_type": "execute_result",
          "data": {
            "text/plain": [
              "LogisticRegression(C=1.0, class_weight=None, dual=False, fit_intercept=True,\n",
              "                   intercept_scaling=1, l1_ratio=None, max_iter=100,\n",
              "                   multi_class='auto', n_jobs=None, penalty='l2',\n",
              "                   random_state=None, solver='lbfgs', tol=0.0001, verbose=0,\n",
              "                   warm_start=False)"
            ]
          },
          "metadata": {
            "tags": []
          },
          "execution_count": 39
        }
      ]
    },
    {
      "cell_type": "code",
      "metadata": {
        "id": "ZunxLt_ZfbsB",
        "colab_type": "code",
        "colab": {}
      },
      "source": [
        "y_pred = model.predict(x_test)"
      ],
      "execution_count": null,
      "outputs": []
    },
    {
      "cell_type": "code",
      "metadata": {
        "id": "ex438dxOfdw5",
        "colab_type": "code",
        "colab": {
          "base_uri": "https://localhost:8080/",
          "height": 35
        },
        "outputId": "5d33c17a-7c90-40a7-fe3b-d8eb0e07bf86"
      },
      "source": [
        "y_pred"
      ],
      "execution_count": null,
      "outputs": [
        {
          "output_type": "execute_result",
          "data": {
            "text/plain": [
              "array([0, 0, 1, 0, 0])"
            ]
          },
          "metadata": {
            "tags": []
          },
          "execution_count": 41
        }
      ]
    },
    {
      "cell_type": "code",
      "metadata": {
        "id": "ZMEWzltmff1e",
        "colab_type": "code",
        "colab": {
          "base_uri": "https://localhost:8080/",
          "height": 35
        },
        "outputId": "194901bd-ca77-4a00-a13a-779b7cb0a693"
      },
      "source": [
        "len(y_pred)"
      ],
      "execution_count": null,
      "outputs": [
        {
          "output_type": "execute_result",
          "data": {
            "text/plain": [
              "5"
            ]
          },
          "metadata": {
            "tags": []
          },
          "execution_count": 42
        }
      ]
    },
    {
      "cell_type": "code",
      "metadata": {
        "id": "S6cgu7Ggfg7W",
        "colab_type": "code",
        "colab": {}
      },
      "source": [
        "acc_500=model.score(x_test,y_test)"
      ],
      "execution_count": null,
      "outputs": []
    },
    {
      "cell_type": "code",
      "metadata": {
        "id": "Phj1YtXhfnwP",
        "colab_type": "code",
        "colab": {}
      },
      "source": [
        "import matplotlib.pyplot as plt\n"
      ],
      "execution_count": null,
      "outputs": []
    },
    {
      "cell_type": "code",
      "metadata": {
        "id": "lT7XarLdfjGE",
        "colab_type": "code",
        "colab": {
          "base_uri": "https://localhost:8080/",
          "height": 269
        },
        "outputId": "5503d3fa-2d07-40de-904b-a123c7f491ed"
      },
      "source": [
        "for i in range(1,len(y_pred)+1):\n",
        "    plt.subplot(2,3,i)\n",
        "    plt.imshow(x_test[i-1].reshape(500,500,3))"
      ],
      "execution_count": null,
      "outputs": [
        {
          "output_type": "display_data",
          "data": {
            "image/png": "[encoded data removed]",
            "text/plain": [
              "<Figure size 432x288 with 5 Axes>"
            ]
          },
          "metadata": {
            "tags": [],
            "needs_background": "light"
          }
        }
      ]
    },
    {
      "cell_type": "code",
      "metadata": {
        "id": "uKVRTUOafmS3",
        "colab_type": "code",
        "colab": {}
      },
      "source": [
        "img=[]\n",
        "for i in paths:\n",
        "    a= cv2.imread(i)\n",
        "    a=cv2.resize(a,(100,100))\n",
        "    a=np.array(a).flatten()\n",
        "    img.append(a)\n",
        "X=np.array(img)"
      ],
      "execution_count": null,
      "outputs": []
    },
    {
      "cell_type": "code",
      "metadata": {
        "id": "KosqgMirgT8Y",
        "colab_type": "code",
        "colab": {
          "base_uri": "https://localhost:8080/",
          "height": 419
        },
        "outputId": "0b5bd7e6-51c0-4025-8ee6-2658d9dc97e3"
      },
      "source": [
        "x_train, x_test, y_train, y_test = model_selection.train_test_split(img, y,train_size=0.75,test_size=0.25)\n",
        "print (\"x_train: \", x_train)\n",
        "print (\"y_train: \", y_train)\n",
        "print (\"x_test: \", x_test)\n",
        "print (\"y_test: \", y_test)"
      ],
      "execution_count": null,
      "outputs": [
        {
          "output_type": "stream",
          "text": [
            "x_train:  [array([27, 59, 91, ..., 76, 22,  0], dtype=uint8), array([195, 244, 243, ...,  22,  62,  36], dtype=uint8), array([ 63,  58,  57, ..., 104,  99,  98], dtype=uint8), array([137, 134, 143, ..., 166, 155, 163], dtype=uint8), array([ 60,  51,  39, ..., 161, 158, 168], dtype=uint8), array([143, 138, 135, ..., 124, 126, 127], dtype=uint8), array([154, 220, 218, ..., 145, 176, 185], dtype=uint8), array([ 28,  34,  41, ...,  99, 105, 140], dtype=uint8), array([153, 164, 170, ...,  97, 128, 183], dtype=uint8), array([196, 223, 236, ..., 224, 224, 224], dtype=uint8), array([255, 254, 253, ..., 144, 165, 162], dtype=uint8), array([ 98,  81,  56, ..., 145, 145, 149], dtype=uint8), array([219, 211, 198, ...,  78, 111, 114], dtype=uint8), array([ 83, 108, 105, ...,  85, 127, 146], dtype=uint8), array([ 98,  89, 142, ..., 212, 182, 181], dtype=uint8)]\n",
            "y_train:  [[1]\n",
            " [0]\n",
            " [1]\n",
            " [1]\n",
            " [1]\n",
            " [0]\n",
            " [1]\n",
            " [0]\n",
            " [1]\n",
            " [1]\n",
            " [1]\n",
            " [0]\n",
            " [1]\n",
            " [0]\n",
            " [0]]\n",
            "x_test:  [array([ 6, 12, 23, ...,  4,  1, 50], dtype=uint8), array([215, 232, 215, ..., 118, 139, 136], dtype=uint8), array([169, 175, 194, ...,  41,  48,  40], dtype=uint8), array([253, 251, 248, ...,   1,   1,  28], dtype=uint8), array([120, 141, 164, ..., 223, 239, 238], dtype=uint8)]\n",
            "y_test:  [[0]\n",
            " [0]\n",
            " [0]\n",
            " [1]\n",
            " [0]]\n"
          ],
          "name": "stdout"
        }
      ]
    },
    {
      "cell_type": "code",
      "metadata": {
        "id": "H9n_utUYgYKE",
        "colab_type": "code",
        "colab": {
          "base_uri": "https://localhost:8080/",
          "height": 107
        },
        "outputId": "51494667-afc8-4992-d6fe-e42eb4033b7b"
      },
      "source": [
        "model.fit(x_train,y_train)\n",
        "y_pred = model.predict(x_test)\n",
        "print(y_pred)\n",
        "print(len(y_pred))"
      ],
      "execution_count": null,
      "outputs": [
        {
          "output_type": "stream",
          "text": [
            "[1 0 0 1 1]\n",
            "5\n"
          ],
          "name": "stdout"
        },
        {
          "output_type": "stream",
          "text": [
            "/usr/local/lib/python3.6/dist-packages/sklearn/utils/validation.py:760: DataConversionWarning: A column-vector y was passed when a 1d array was expected. Please change the shape of y to (n_samples, ), for example using ravel().\n",
            "  y = column_or_1d(y, warn=True)\n"
          ],
          "name": "stderr"
        }
      ]
    },
    {
      "cell_type": "code",
      "metadata": {
        "id": "MlWw_1z7gxA-",
        "colab_type": "code",
        "colab": {
          "base_uri": "https://localhost:8080/",
          "height": 35
        },
        "outputId": "c4126fa2-2b45-48e9-c811-ad244a280559"
      },
      "source": [
        "acc_100=model.score(x_test,y_test)\n",
        "print(acc_100)"
      ],
      "execution_count": null,
      "outputs": [
        {
          "output_type": "stream",
          "text": [
            "0.6\n"
          ],
          "name": "stdout"
        }
      ]
    },
    {
      "cell_type": "code",
      "metadata": {
        "id": "6aVf4NfHg7M8",
        "colab_type": "code",
        "colab": {}
      },
      "source": [
        "img=[]\n",
        "for i in paths:\n",
        "    a= cv2.imread(i)\n",
        "    a=cv2.resize(a,(50,50))\n",
        "    a=np.array(a).flatten()\n",
        "    img.append(a)\n",
        "X=np.array(img)"
      ],
      "execution_count": null,
      "outputs": []
    },
    {
      "cell_type": "code",
      "metadata": {
        "id": "QV0Uv7FKhLUQ",
        "colab_type": "code",
        "colab": {
          "base_uri": "https://localhost:8080/",
          "height": 419
        },
        "outputId": "dd93c27a-a8c0-4259-91a3-bcc9d7746c01"
      },
      "source": [
        "x_train, x_test, y_train, y_test = model_selection.train_test_split(img, y,train_size=0.75,test_size=0.25)\n",
        "print (\"x_train: \", x_train)\n",
        "print (\"y_train: \", y_train)\n",
        "print (\"x_test: \", x_test)\n",
        "print (\"y_test: \", y_test)"
      ],
      "execution_count": null,
      "outputs": [
        {
          "output_type": "stream",
          "text": [
            "x_train:  [array([120, 163, 154, ..., 110, 138, 195], dtype=uint8), array([208, 249, 251, ...,  94, 137, 105], dtype=uint8), array([ 1,  0, 10, ...,  4,  1, 54], dtype=uint8), array([166, 172, 191, ...,  35,  41,  36], dtype=uint8), array([135, 132, 141, ..., 163, 155, 162], dtype=uint8), array([214, 232, 217, ..., 122, 140, 139], dtype=uint8), array([ 90,  74,  45, ..., 159, 160, 164], dtype=uint8), array([ 35,  60,  55, ...,  86, 128, 147], dtype=uint8), array([177, 205, 215, ..., 222, 222, 222], dtype=uint8), array([156, 151, 148, ..., 124, 127, 127], dtype=uint8), array([ 86,  99, 149, ..., 206, 186, 179], dtype=uint8), array([156, 158, 180, ...,   1,   0,  24], dtype=uint8), array([255, 255, 254, ..., 144, 165, 162], dtype=uint8), array([ 70,  65,  64, ..., 107, 102, 100], dtype=uint8), array([ 60,  94, 135, ..., 214, 236, 234], dtype=uint8)]\n",
            "y_train:  [[1]\n",
            " [0]\n",
            " [0]\n",
            " [0]\n",
            " [1]\n",
            " [0]\n",
            " [0]\n",
            " [0]\n",
            " [1]\n",
            " [0]\n",
            " [0]\n",
            " [1]\n",
            " [1]\n",
            " [1]\n",
            " [0]]\n",
            "x_test:  [array([24, 57, 90, ..., 84, 30,  7], dtype=uint8), array([ 38,  44,  51, ..., 107, 110, 147], dtype=uint8), array([ 50,  35,  34, ..., 138, 137, 148], dtype=uint8), array([152, 225, 224, ..., 143, 177, 190], dtype=uint8), array([220, 212, 199, ...,  66,  99, 103], dtype=uint8)]\n",
            "y_test:  [[1]\n",
            " [0]\n",
            " [1]\n",
            " [1]\n",
            " [1]]\n"
          ],
          "name": "stdout"
        }
      ]
    },
    {
      "cell_type": "code",
      "metadata": {
        "id": "vQN4hZdWhOhW",
        "colab_type": "code",
        "colab": {
          "base_uri": "https://localhost:8080/",
          "height": 124
        },
        "outputId": "51ade62a-ed7f-4e23-ad21-21594d0eb775"
      },
      "source": [
        "model.fit(x_train,y_train)\n",
        "y_pred = model.predict(x_test)\n",
        "print(y_pred)\n",
        "print(len(y_pred))\n",
        "acc_50=model.score(x_test,y_test)\n",
        "print(acc_50)"
      ],
      "execution_count": null,
      "outputs": [
        {
          "output_type": "stream",
          "text": [
            "[0 1 0 1 0]\n",
            "5\n",
            "0.2\n"
          ],
          "name": "stdout"
        },
        {
          "output_type": "stream",
          "text": [
            "/usr/local/lib/python3.6/dist-packages/sklearn/utils/validation.py:760: DataConversionWarning: A column-vector y was passed when a 1d array was expected. Please change the shape of y to (n_samples, ), for example using ravel().\n",
            "  y = column_or_1d(y, warn=True)\n"
          ],
          "name": "stderr"
        }
      ]
    },
    {
      "cell_type": "code",
      "metadata": {
        "id": "UmTtXrkvhUD-",
        "colab_type": "code",
        "colab": {}
      },
      "source": [
        "img=[]\n",
        "for i in paths:\n",
        "    a= cv2.imread(i)\n",
        "    a=cv2.resize(a,(25,25))\n",
        "    a=np.array(a).flatten()\n",
        "    img.append(a)\n",
        "X=np.array(img)"
      ],
      "execution_count": null,
      "outputs": []
    },
    {
      "cell_type": "code",
      "metadata": {
        "id": "81-OAxDShac7",
        "colab_type": "code",
        "colab": {
          "base_uri": "https://localhost:8080/",
          "height": 419
        },
        "outputId": "d466108b-636f-4009-ecce-fbb7787cf8c9"
      },
      "source": [
        "x_train, x_test, y_train, y_test = model_selection.train_test_split(img, y,train_size=0.75,test_size=0.25)\n",
        "print (\"x_train: \", x_train)\n",
        "print (\"y_train: \", y_train)\n",
        "print (\"x_test: \", x_test)\n",
        "print (\"y_test: \", y_test)"
      ],
      "execution_count": null,
      "outputs": [
        {
          "output_type": "stream",
          "text": [
            "x_train:  [array([197, 220, 206, ..., 113, 135, 130], dtype=uint8), array([255, 254, 253, ..., 142, 165, 163], dtype=uint8), array([ 64,  47,  45, ..., 187, 189, 197], dtype=uint8), array([135, 133, 139, ..., 167, 159, 160], dtype=uint8), array([130, 157, 186, ..., 220, 220, 220], dtype=uint8), array([ 98, 126, 172, ...,   4,   0,  18], dtype=uint8), array([ 99,  95,  94, ..., 146, 141, 140], dtype=uint8), array([233, 254, 255, ...,  50,  85,  67], dtype=uint8), array([165, 160, 157, ..., 131, 133, 134], dtype=uint8), array([ 96, 103, 164, ..., 214, 180, 181], dtype=uint8), array([166, 172, 191, ...,  38,  46,  42], dtype=uint8), array([10, 29, 36, ...,  2,  6, 54], dtype=uint8), array([156, 223, 221, ..., 141, 173, 186], dtype=uint8), array([ 47,  54,  60, ..., 133, 138, 172], dtype=uint8), array([220, 212, 199, ...,  61,  94,  97], dtype=uint8)]\n",
            "y_train:  [[0]\n",
            " [1]\n",
            " [1]\n",
            " [1]\n",
            " [1]\n",
            " [1]\n",
            " [1]\n",
            " [0]\n",
            " [0]\n",
            " [0]\n",
            " [0]\n",
            " [0]\n",
            " [1]\n",
            " [0]\n",
            " [1]]\n",
            "x_test:  [array([ 46,  68,  56, ...,  95, 138, 155], dtype=uint8), array([110,  95,  61, ..., 162, 165, 170], dtype=uint8), array([ 91, 167, 139, ...,  90, 133, 192], dtype=uint8), array([ 18,  59, 104, ..., 213, 234, 235], dtype=uint8), array([19, 50, 85, ..., 88, 34, 11], dtype=uint8)]\n",
            "y_test:  [[0]\n",
            " [0]\n",
            " [1]\n",
            " [0]\n",
            " [1]]\n"
          ],
          "name": "stdout"
        }
      ]
    },
    {
      "cell_type": "code",
      "metadata": {
        "id": "wZwinPpPhc3E",
        "colab_type": "code",
        "colab": {
          "base_uri": "https://localhost:8080/",
          "height": 124
        },
        "outputId": "8661045c-b10a-4460-a6c7-bb0b5a1badce"
      },
      "source": [
        "model.fit(x_train,y_train)\n",
        "y_pred = model.predict(x_test)\n",
        "print(y_pred)\n",
        "print(len(y_pred))\n",
        "acc_25=model.score(x_test,y_test)\n",
        "print(acc_25)"
      ],
      "execution_count": null,
      "outputs": [
        {
          "output_type": "stream",
          "text": [
            "[0 1 0 1 0]\n",
            "5\n",
            "0.2\n"
          ],
          "name": "stdout"
        },
        {
          "output_type": "stream",
          "text": [
            "/usr/local/lib/python3.6/dist-packages/sklearn/utils/validation.py:760: DataConversionWarning: A column-vector y was passed when a 1d array was expected. Please change the shape of y to (n_samples, ), for example using ravel().\n",
            "  y = column_or_1d(y, warn=True)\n"
          ],
          "name": "stderr"
        }
      ]
    },
    {
      "cell_type": "code",
      "metadata": {
        "id": "WiaocCyDh2A5",
        "colab_type": "code",
        "colab": {
          "base_uri": "https://localhost:8080/",
          "height": 279
        },
        "outputId": "d4bae4fb-bbc8-4a63-fbdf-66f61791a21f"
      },
      "source": [
        "plt.bar([25,50,100,500],[acc_25,acc_50,acc_100,acc_500],width=1)\n",
        "plt.xlabel(\"Pixels\")\n",
        "plt.ylabel(\"Accuracy\")\n",
        "plt.show()"
      ],
      "execution_count": null,
      "outputs": [
        {
          "output_type": "display_data",
          "data": {
            "image/png": "[encoded data removed]",
            "text/plain": [
              "<Figure size 432x288 with 1 Axes>"
            ]
          },
          "metadata": {
            "tags": [],
            "needs_background": "light"
          }
        }
      ]
    },
    {
      "cell_type": "code",
      "metadata": {
        "id": "tbmm9XLdiabw",
        "colab_type": "code",
        "colab": {}
      },
      "source": [
        ""
      ],
      "execution_count": null,
      "outputs": []
    }
  ]
}