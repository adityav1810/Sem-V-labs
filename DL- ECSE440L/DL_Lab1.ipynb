{
  "nbformat": 4,
  "nbformat_minor": 0,
  "metadata": {
    "colab": {
      "name": "DL_Lab1.ipynb",
      "provenance": [],
      "collapsed_sections": [],
      "authorship_tag": "ABX9TyPEHWdSLfD2VXIXH5G2WJVt",
      "include_colab_link": true
    },
    "kernelspec": {
      "name": "python3",
      "display_name": "Python 3"
    }
  },
  "cells": [
    {
      "cell_type": "markdown",
      "metadata": {
        "id": "view-in-github",
        "colab_type": "text"
      },
      "source": [
        "<a href=\"https://colab.research.google.com/github/tushar2k/Sem-V-labs/blob/master/DL-%20ECSE440L/DL_Lab1.ipynb\" target=\"_parent\"><img src=\"https://colab.research.google.com/assets/colab-badge.svg\" alt=\"Open In Colab\"/></a>"
      ]
    },
    {
      "cell_type": "code",
      "metadata": {
        "id": "eANzzcDV0mG7",
        "colab_type": "code",
        "colab": {
          "base_uri": "https://localhost:8080/",
          "height": 35
        },
        "outputId": "a970cea4-ade2-4383-a89d-8817e515724b"
      },
      "source": [
        "!pip install numpy"
      ],
      "execution_count": null,
      "outputs": [
        {
          "output_type": "stream",
          "text": [
            "Requirement already satisfied: numpy in /usr/local/lib/python3.6/dist-packages (1.18.5)\n"
          ],
          "name": "stdout"
        }
      ]
    },
    {
      "cell_type": "code",
      "metadata": {
        "id": "euHRK4Gh1Xza",
        "colab_type": "code",
        "colab": {}
      },
      "source": [
        "import numpy as np"
      ],
      "execution_count": null,
      "outputs": []
    },
    {
      "cell_type": "code",
      "metadata": {
        "id": "hHU5f5Dm1eg8",
        "colab_type": "code",
        "colab": {
          "base_uri": "https://localhost:8080/",
          "height": 35
        },
        "outputId": "aceb11ac-61ec-4601-a164-45f22e7823a2"
      },
      "source": [
        "np.version.version"
      ],
      "execution_count": null,
      "outputs": [
        {
          "output_type": "execute_result",
          "data": {
            "application/vnd.google.colaboratory.intrinsic+json": {
              "type": "string"
            },
            "text/plain": [
              "'1.18.5'"
            ]
          },
          "metadata": {
            "tags": []
          },
          "execution_count": 6
        }
      ]
    },
    {
      "cell_type": "code",
      "metadata": {
        "id": "T9w0XqoZ1nrx",
        "colab_type": "code",
        "colab": {}
      },
      "source": [
        "arr1= np.array([[1,2,3],[3,4,5]]) #integer array\n",
        "arr2= np.array([[1,2.0,3.3],[3,4,5.5]]) #float array\n",
        "arr3 = np.array( [ [ 4 , 8 ] , [ 3 , 8 ] ], dtype=complex ) #complex array"
      ],
      "execution_count": null,
      "outputs": []
    },
    {
      "cell_type": "code",
      "metadata": {
        "id": "rkUACo-j3NbB",
        "colab_type": "code",
        "colab": {
          "base_uri": "https://localhost:8080/",
          "height": 173
        },
        "outputId": "3b527b15-0477-4276-b354-6ccdd073b778"
      },
      "source": [
        "print(\"Data type of \\n\", arr1,arr1.dtype)\n",
        "print(\"Data type of \\n\", arr2,arr2.dtype)\n",
        "print(\"Data type of \\n\", arr3,arr3.dtype)"
      ],
      "execution_count": null,
      "outputs": [
        {
          "output_type": "stream",
          "text": [
            "Data type of \n",
            " [[1 2 3]\n",
            " [3 4 5]] int64\n",
            "Data type of \n",
            " [[1.  2.  3.3]\n",
            " [3.  4.  5.5]] float64\n",
            "Data type of \n",
            " [[4.+0.j 8.+0.j]\n",
            " [3.+0.j 8.+0.j]] complex128\n"
          ],
          "name": "stdout"
        }
      ]
    },
    {
      "cell_type": "code",
      "metadata": {
        "id": "vq8lGll44GrM",
        "colab_type": "code",
        "colab": {
          "base_uri": "https://localhost:8080/",
          "height": 173
        },
        "outputId": "efe6f8e3-2358-4a88-d01e-805861df8601"
      },
      "source": [
        "print(\"Shape type of \\n\", arr1,arr1.shape)\n",
        "print(\"Shape type of \\n\", arr2,arr2.shape)\n",
        "print(\"Shape type of \\n\", arr3,arr3.shape)"
      ],
      "execution_count": null,
      "outputs": [
        {
          "output_type": "stream",
          "text": [
            "Shape type of \n",
            " [[1 2 3]\n",
            " [3 4 5]] (2, 3)\n",
            "Shape type of \n",
            " [[1.  2.  3.3]\n",
            " [3.  4.  5.5]] (2, 3)\n",
            "Shape type of \n",
            " [[4.+0.j 8.+0.j]\n",
            " [3.+0.j 8.+0.j]] (2, 2)\n"
          ],
          "name": "stdout"
        }
      ]
    },
    {
      "cell_type": "code",
      "metadata": {
        "id": "LqznrXTJ5qWL",
        "colab_type": "code",
        "colab": {
          "base_uri": "https://localhost:8080/",
          "height": 173
        },
        "outputId": "23fdcaa4-f85b-47cf-f826-05d8e550138a"
      },
      "source": [
        "print(\"Dimension type of \\n\", arr1,arr1.ndim)\n",
        "print(\"Dimension type of \\n\", arr2,arr2.ndim)\n",
        "print(\"Dimension type of \\n\", arr3,arr3.ndim)"
      ],
      "execution_count": null,
      "outputs": [
        {
          "output_type": "stream",
          "text": [
            "Dimension type of \n",
            " [[1 2 3]\n",
            " [3 4 5]] 2\n",
            "Dimension type of \n",
            " [[1.  2.  3.3]\n",
            " [3.  4.  5.5]] 2\n",
            "Dimension type of \n",
            " [[4.+0.j 8.+0.j]\n",
            " [3.+0.j 8.+0.j]] 2\n"
          ],
          "name": "stdout"
        }
      ]
    },
    {
      "cell_type": "code",
      "metadata": {
        "id": "sXof6PL_58q4",
        "colab_type": "code",
        "colab": {
          "base_uri": "https://localhost:8080/",
          "height": 260
        },
        "outputId": "42b25319-a430-4e0a-f95c-d888236986f2"
      },
      "source": [
        " matrix1 = np.arange(10,22).reshape(4,3)\n",
        " matrix2 = np.arange(12).reshape(4,3)\n",
        " print (matrix1, '\\n\\n', matrix2, '\\n\\n', matrix1+matrix2)"
      ],
      "execution_count": null,
      "outputs": [
        {
          "output_type": "stream",
          "text": [
            "[[10 11 12]\n",
            " [13 14 15]\n",
            " [16 17 18]\n",
            " [19 20 21]] \n",
            "\n",
            " [[ 0  1  2]\n",
            " [ 3  4  5]\n",
            " [ 6  7  8]\n",
            " [ 9 10 11]] \n",
            "\n",
            " [[10 12 14]\n",
            " [16 18 20]\n",
            " [22 24 26]\n",
            " [28 30 32]]\n"
          ],
          "name": "stdout"
        }
      ]
    },
    {
      "cell_type": "code",
      "metadata": {
        "id": "YdWqx5W5F9Iw",
        "colab_type": "code",
        "colab": {
          "base_uri": "https://localhost:8080/",
          "height": 69
        },
        "outputId": "aebd6620-f45a-4e92-c4cd-0a2e661e56ed"
      },
      "source": [
        "print(matrix1.transpose(),matrix1.transpose().shape)"
      ],
      "execution_count": null,
      "outputs": [
        {
          "output_type": "stream",
          "text": [
            "[[10 13 16 19]\n",
            " [11 14 17 20]\n",
            " [12 15 18 21]] (3, 4)\n"
          ],
          "name": "stdout"
        }
      ]
    },
    {
      "cell_type": "code",
      "metadata": {
        "id": "ccpbEaERHKRq",
        "colab_type": "code",
        "colab": {
          "base_uri": "https://localhost:8080/",
          "height": 260
        },
        "outputId": "cd5f79c7-af8c-41e6-ca55-45700dd40ab6"
      },
      "source": [
        "print(matrix1, '\\n*\\n', matrix1 , '\\n=\\n', matrix1*matrix1)"
      ],
      "execution_count": null,
      "outputs": [
        {
          "output_type": "stream",
          "text": [
            "[[10 11 12]\n",
            " [13 14 15]\n",
            " [16 17 18]\n",
            " [19 20 21]] \n",
            "*\n",
            " [[10 11 12]\n",
            " [13 14 15]\n",
            " [16 17 18]\n",
            " [19 20 21]] \n",
            "=\n",
            " [[100 121 144]\n",
            " [169 196 225]\n",
            " [256 289 324]\n",
            " [361 400 441]]\n"
          ],
          "name": "stdout"
        }
      ]
    },
    {
      "cell_type": "code",
      "metadata": {
        "id": "xqwNvwPAIUWT",
        "colab_type": "code",
        "colab": {
          "base_uri": "https://localhost:8080/",
          "height": 243
        },
        "outputId": "f432d4ad-7278-4f98-ff25-71fb7372a16a"
      },
      "source": [
        "print(matrix1, '\\n.\\n', matrix1.transpose() , '\\n=\\n', matrix1.dot(matrix1.transpose()))"
      ],
      "execution_count": null,
      "outputs": [
        {
          "output_type": "stream",
          "text": [
            "[[10 11 12]\n",
            " [13 14 15]\n",
            " [16 17 18]\n",
            " [19 20 21]] \n",
            ".\n",
            " [[10 13 16 19]\n",
            " [11 14 17 20]\n",
            " [12 15 18 21]] \n",
            "=\n",
            " [[ 365  464  563  662]\n",
            " [ 464  590  716  842]\n",
            " [ 563  716  869 1022]\n",
            " [ 662  842 1022 1202]]\n"
          ],
          "name": "stdout"
        }
      ]
    },
    {
      "cell_type": "code",
      "metadata": {
        "id": "82o-9pOPJf6I",
        "colab_type": "code",
        "colab": {
          "base_uri": "https://localhost:8080/",
          "height": 87
        },
        "outputId": "22186f52-70d5-46b1-e7f6-484e795d3282"
      },
      "source": [
        "for i in range(len(matrix1)):\n",
        "    for j in range (len(matrix1[0])):\n",
        "        print (matrix1[i][j], end=\", \")\n",
        "    print()"
      ],
      "execution_count": null,
      "outputs": [
        {
          "output_type": "stream",
          "text": [
            "10, 11, 12, \n",
            "13, 14, 15, \n",
            "16, 17, 18, \n",
            "19, 20, 21, \n"
          ],
          "name": "stdout"
        }
      ]
    },
    {
      "cell_type": "code",
      "metadata": {
        "id": "wKd16bmdKLtx",
        "colab_type": "code",
        "colab": {
          "base_uri": "https://localhost:8080/",
          "height": 69
        },
        "outputId": "9d156a1e-7629-4469-bafa-d045f9e19fd6"
      },
      "source": [
        "print (matrix1[0],'\\nafter reversing'+'\\n',matrix1[0][::-1])"
      ],
      "execution_count": null,
      "outputs": [
        {
          "output_type": "stream",
          "text": [
            "[10 11 12] \n",
            "after reversing\n",
            " [12 11 10]\n"
          ],
          "name": "stdout"
        }
      ]
    },
    {
      "cell_type": "code",
      "metadata": {
        "id": "ZWpb8tHoK5va",
        "colab_type": "code",
        "colab": {}
      },
      "source": [
        "from numpy import genfromtxt"
      ],
      "execution_count": null,
      "outputs": []
    },
    {
      "cell_type": "code",
      "metadata": {
        "id": "y6lx9suJMRz6",
        "colab_type": "code",
        "colab": {}
      },
      "source": [
        "df = genfromtxt('/content/AMZN.csv', delimiter=',')"
      ],
      "execution_count": null,
      "outputs": []
    },
    {
      "cell_type": "code",
      "metadata": {
        "id": "1v5K0cVjMWTe",
        "colab_type": "code",
        "colab": {
          "base_uri": "https://localhost:8080/",
          "height": 312
        },
        "outputId": "f3949039-700b-4bf0-fe9e-e382b4c87edd"
      },
      "source": [
        "print(df)\n",
        "print(df.ndim)\n",
        "print(df.shape)\n",
        "print(df.size)\n",
        "print(type(df))"
      ],
      "execution_count": null,
      "outputs": [
        {
          "output_type": "stream",
          "text": [
            "[[           nan            nan            nan ...            nan\n",
            "             nan            nan]\n",
            " [           nan 1.81450000e+03 1.81681995e+03 ... 1.80138000e+03\n",
            "  1.80138000e+03 1.92950000e+06]\n",
            " [           nan 1.81939001e+03 1.82957996e+03 ... 1.82354004e+03\n",
            "  1.82354004e+03 2.03180000e+06]\n",
            " ...\n",
            " [           nan 3.21200000e+03 3.32000000e+03 ... 3.31248999e+03\n",
            "  3.31248999e+03 5.34600000e+06]\n",
            " [           nan 3.30301001e+03 3.31589990e+03 ... 3.26047998e+03\n",
            "  3.26047998e+03 4.16710000e+06]\n",
            " [           nan 3.25200000e+03 3.30470996e+03 ... 3.30288501e+03\n",
            "  3.30288501e+03 2.29529100e+06]]\n",
            "2\n",
            "(255, 7)\n",
            "1785\n",
            "<class 'numpy.ndarray'>\n"
          ],
          "name": "stdout"
        }
      ]
    },
    {
      "cell_type": "code",
      "metadata": {
        "id": "UpZRMJyJMXlR",
        "colab_type": "code",
        "colab": {}
      },
      "source": [
        ""
      ],
      "execution_count": null,
      "outputs": []
    }
  ]
}